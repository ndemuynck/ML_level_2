{
 "cells": [
  {
   "cell_type": "markdown",
   "metadata": {},
   "source": [
    "### Balanced dataframe (50/50 ratio)"
   ]
  },
  {
   "cell_type": "markdown",
   "metadata": {},
   "source": [
    "### Import libraries"
   ]
  },
  {
   "cell_type": "code",
   "execution_count": 97,
   "metadata": {},
   "outputs": [],
   "source": [
    "import pandas as pd\n",
    "import numpy as np\n",
    "import matplotlib.pyplot as plt\n",
    "import seaborn as sns\n",
    "from sklearn.preprocessing import LabelEncoder\n",
    "from sklearn.model_selection import train_test_split\n",
    "from sklearn.pipeline import Pipeline\n",
    "from sklearn.preprocessing import StandardScaler\n",
    "import time\n",
    "from sklearn.linear_model import LogisticRegression\n",
    "from sklearn.neighbors import KNeighborsClassifier\n",
    "from sklearn.svm import SVC\n",
    "from xgboost import XGBClassifier\n",
    "from sklearn.tree import DecisionTreeClassifier\n",
    "from sklearn.ensemble import RandomForestClassifier\n",
    "from sklearn.neural_network import MLPClassifier\n",
    "from sklearn.naive_bayes import GaussianNB\n",
    "from sklearn.metrics import accuracy_score\n",
    "import warnings\n",
    "warnings.filterwarnings(\"ignore\")\n",
    "from sklearn.model_selection import validation_curve\n",
    "from sklearn.model_selection import RandomizedSearchCV\n",
    "from sklearn.model_selection import GridSearchCV\n",
    "from sklearn.model_selection import KFold\n",
    "from sklearn.model_selection import cross_val_score\n",
    "from sklearn.metrics import confusion_matrix\n",
    "from sklearn.metrics import matthews_corrcoef\n",
    "from sklearn.metrics import classification_report\n",
    "from sklearn.metrics import roc_curve\n",
    "from sklearn.metrics import roc_auc_score\n",
    "from sklearn.metrics import auc\n",
    "from sklearn.model_selection import learning_curve\n",
    "from sklearn.model_selection import validation_curve\n",
    "from sklearn.metrics import precision_recall_curve"
   ]
  },
  {
   "cell_type": "markdown",
   "metadata": {},
   "source": [
    "### Load and explore data"
   ]
  },
  {
   "cell_type": "code",
   "execution_count": 98,
   "metadata": {},
   "outputs": [],
   "source": [
    "dataframe = pd.read_csv('FinalDataFrame.csv')"
   ]
  },
  {
   "cell_type": "code",
   "execution_count": 99,
   "metadata": {},
   "outputs": [
    {
     "data": {
      "text/html": [
       "<div>\n",
       "<style scoped>\n",
       "    .dataframe tbody tr th:only-of-type {\n",
       "        vertical-align: middle;\n",
       "    }\n",
       "\n",
       "    .dataframe tbody tr th {\n",
       "        vertical-align: top;\n",
       "    }\n",
       "\n",
       "    .dataframe thead th {\n",
       "        text-align: right;\n",
       "    }\n",
       "</style>\n",
       "<table border=\"1\" class=\"dataframe\">\n",
       "  <thead>\n",
       "    <tr style=\"text-align: right;\">\n",
       "      <th></th>\n",
       "      <th>coil</th>\n",
       "      <th>analyse</th>\n",
       "      <th>Hardness_1</th>\n",
       "      <th>Hardness_2</th>\n",
       "      <th>Width</th>\n",
       "      <th>Temperature before finishing mill</th>\n",
       "      <th>Temperature after finishing mill</th>\n",
       "      <th>Thickness</th>\n",
       "      <th>c</th>\n",
       "      <th>mn</th>\n",
       "      <th>...</th>\n",
       "      <th>s</th>\n",
       "      <th>al</th>\n",
       "      <th>ma</th>\n",
       "      <th>b</th>\n",
       "      <th>n</th>\n",
       "      <th>ti</th>\n",
       "      <th>cr</th>\n",
       "      <th>va</th>\n",
       "      <th>mo</th>\n",
       "      <th>Target Label</th>\n",
       "    </tr>\n",
       "  </thead>\n",
       "  <tbody>\n",
       "    <tr>\n",
       "      <th>0</th>\n",
       "      <td>404131</td>\n",
       "      <td>L971</td>\n",
       "      <td>17039.0</td>\n",
       "      <td>164.0</td>\n",
       "      <td>1326.1</td>\n",
       "      <td>1171.0</td>\n",
       "      <td>913.0</td>\n",
       "      <td>2.05</td>\n",
       "      <td>2037</td>\n",
       "      <td>21830</td>\n",
       "      <td>...</td>\n",
       "      <td>11</td>\n",
       "      <td>381</td>\n",
       "      <td>370</td>\n",
       "      <td>6</td>\n",
       "      <td>48</td>\n",
       "      <td>78</td>\n",
       "      <td>2066</td>\n",
       "      <td>28</td>\n",
       "      <td>27</td>\n",
       "      <td>0</td>\n",
       "    </tr>\n",
       "    <tr>\n",
       "      <th>1</th>\n",
       "      <td>511381</td>\n",
       "      <td>K371</td>\n",
       "      <td>9957.0</td>\n",
       "      <td>100.0</td>\n",
       "      <td>1101.5</td>\n",
       "      <td>1211.0</td>\n",
       "      <td>896.0</td>\n",
       "      <td>1.68</td>\n",
       "      <td>504</td>\n",
       "      <td>1924</td>\n",
       "      <td>...</td>\n",
       "      <td>84</td>\n",
       "      <td>378</td>\n",
       "      <td>365</td>\n",
       "      <td>1</td>\n",
       "      <td>18</td>\n",
       "      <td>7</td>\n",
       "      <td>206</td>\n",
       "      <td>4</td>\n",
       "      <td>10</td>\n",
       "      <td>0</td>\n",
       "    </tr>\n",
       "    <tr>\n",
       "      <th>2</th>\n",
       "      <td>532359</td>\n",
       "      <td>K371</td>\n",
       "      <td>9811.0</td>\n",
       "      <td>98.0</td>\n",
       "      <td>1293.5</td>\n",
       "      <td>1169.0</td>\n",
       "      <td>901.0</td>\n",
       "      <td>5.98</td>\n",
       "      <td>289</td>\n",
       "      <td>2051</td>\n",
       "      <td>...</td>\n",
       "      <td>167</td>\n",
       "      <td>257</td>\n",
       "      <td>248</td>\n",
       "      <td>1</td>\n",
       "      <td>36</td>\n",
       "      <td>5</td>\n",
       "      <td>282</td>\n",
       "      <td>0</td>\n",
       "      <td>37</td>\n",
       "      <td>0</td>\n",
       "    </tr>\n",
       "    <tr>\n",
       "      <th>3</th>\n",
       "      <td>440921</td>\n",
       "      <td>K821</td>\n",
       "      <td>10490.0</td>\n",
       "      <td>105.0</td>\n",
       "      <td>1211.2</td>\n",
       "      <td>1188.0</td>\n",
       "      <td>866.0</td>\n",
       "      <td>1.47</td>\n",
       "      <td>777</td>\n",
       "      <td>3547</td>\n",
       "      <td>...</td>\n",
       "      <td>123</td>\n",
       "      <td>324</td>\n",
       "      <td>312</td>\n",
       "      <td>1</td>\n",
       "      <td>42</td>\n",
       "      <td>10</td>\n",
       "      <td>255</td>\n",
       "      <td>1</td>\n",
       "      <td>20</td>\n",
       "      <td>0</td>\n",
       "    </tr>\n",
       "    <tr>\n",
       "      <th>4</th>\n",
       "      <td>431592</td>\n",
       "      <td>K371</td>\n",
       "      <td>9831.0</td>\n",
       "      <td>98.0</td>\n",
       "      <td>1100.2</td>\n",
       "      <td>1183.0</td>\n",
       "      <td>898.0</td>\n",
       "      <td>1.65</td>\n",
       "      <td>412</td>\n",
       "      <td>1691</td>\n",
       "      <td>...</td>\n",
       "      <td>71</td>\n",
       "      <td>310</td>\n",
       "      <td>310</td>\n",
       "      <td>0</td>\n",
       "      <td>58</td>\n",
       "      <td>5</td>\n",
       "      <td>157</td>\n",
       "      <td>1</td>\n",
       "      <td>2</td>\n",
       "      <td>0</td>\n",
       "    </tr>\n",
       "  </tbody>\n",
       "</table>\n",
       "<p>5 rows × 23 columns</p>\n",
       "</div>"
      ],
      "text/plain": [
       "     coil analyse  Hardness_1  Hardness_2   Width  \\\n",
       "0  404131   L971      17039.0       164.0  1326.1   \n",
       "1  511381   K371       9957.0       100.0  1101.5   \n",
       "2  532359   K371       9811.0        98.0  1293.5   \n",
       "3  440921   K821      10490.0       105.0  1211.2   \n",
       "4  431592   K371       9831.0        98.0  1100.2   \n",
       "\n",
       "   Temperature before finishing mill  Temperature after finishing mill  \\\n",
       "0                             1171.0                             913.0   \n",
       "1                             1211.0                             896.0   \n",
       "2                             1169.0                             901.0   \n",
       "3                             1188.0                             866.0   \n",
       "4                             1183.0                             898.0   \n",
       "\n",
       "   Thickness     c     mn  ...    s   al   ma  b   n  ti    cr  va  mo  \\\n",
       "0       2.05  2037  21830  ...   11  381  370  6  48  78  2066  28  27   \n",
       "1       1.68   504   1924  ...   84  378  365  1  18   7   206   4  10   \n",
       "2       5.98   289   2051  ...  167  257  248  1  36   5   282   0  37   \n",
       "3       1.47   777   3547  ...  123  324  312  1  42  10   255   1  20   \n",
       "4       1.65   412   1691  ...   71  310  310  0  58   5   157   1   2   \n",
       "\n",
       "   Target Label  \n",
       "0             0  \n",
       "1             0  \n",
       "2             0  \n",
       "3             0  \n",
       "4             0  \n",
       "\n",
       "[5 rows x 23 columns]"
      ]
     },
     "execution_count": 99,
     "metadata": {},
     "output_type": "execute_result"
    }
   ],
   "source": [
    "dataframe.head(5)"
   ]
  },
  {
   "cell_type": "code",
   "execution_count": 100,
   "metadata": {},
   "outputs": [
    {
     "data": {
      "text/html": [
       "<div>\n",
       "<style scoped>\n",
       "    .dataframe tbody tr th:only-of-type {\n",
       "        vertical-align: middle;\n",
       "    }\n",
       "\n",
       "    .dataframe tbody tr th {\n",
       "        vertical-align: top;\n",
       "    }\n",
       "\n",
       "    .dataframe thead th {\n",
       "        text-align: right;\n",
       "    }\n",
       "</style>\n",
       "<table border=\"1\" class=\"dataframe\">\n",
       "  <thead>\n",
       "    <tr style=\"text-align: right;\">\n",
       "      <th></th>\n",
       "      <th>analyse</th>\n",
       "      <th>Hardness_1</th>\n",
       "      <th>Hardness_2</th>\n",
       "      <th>Width</th>\n",
       "      <th>Temperature before finishing mill</th>\n",
       "      <th>Temperature after finishing mill</th>\n",
       "      <th>Thickness</th>\n",
       "      <th>c</th>\n",
       "      <th>mn</th>\n",
       "      <th>si</th>\n",
       "      <th>...</th>\n",
       "      <th>s</th>\n",
       "      <th>al</th>\n",
       "      <th>ma</th>\n",
       "      <th>b</th>\n",
       "      <th>n</th>\n",
       "      <th>ti</th>\n",
       "      <th>cr</th>\n",
       "      <th>va</th>\n",
       "      <th>mo</th>\n",
       "      <th>Target Label</th>\n",
       "    </tr>\n",
       "    <tr>\n",
       "      <th>coil</th>\n",
       "      <th></th>\n",
       "      <th></th>\n",
       "      <th></th>\n",
       "      <th></th>\n",
       "      <th></th>\n",
       "      <th></th>\n",
       "      <th></th>\n",
       "      <th></th>\n",
       "      <th></th>\n",
       "      <th></th>\n",
       "      <th></th>\n",
       "      <th></th>\n",
       "      <th></th>\n",
       "      <th></th>\n",
       "      <th></th>\n",
       "      <th></th>\n",
       "      <th></th>\n",
       "      <th></th>\n",
       "      <th></th>\n",
       "      <th></th>\n",
       "      <th></th>\n",
       "    </tr>\n",
       "  </thead>\n",
       "  <tbody>\n",
       "    <tr>\n",
       "      <th>404131</th>\n",
       "      <td>L971</td>\n",
       "      <td>17039.0</td>\n",
       "      <td>164.0</td>\n",
       "      <td>1326.1</td>\n",
       "      <td>1171.0</td>\n",
       "      <td>913.0</td>\n",
       "      <td>2.05</td>\n",
       "      <td>2037</td>\n",
       "      <td>21830</td>\n",
       "      <td>15070</td>\n",
       "      <td>...</td>\n",
       "      <td>11</td>\n",
       "      <td>381</td>\n",
       "      <td>370</td>\n",
       "      <td>6</td>\n",
       "      <td>48</td>\n",
       "      <td>78</td>\n",
       "      <td>2066</td>\n",
       "      <td>28</td>\n",
       "      <td>27</td>\n",
       "      <td>0</td>\n",
       "    </tr>\n",
       "    <tr>\n",
       "      <th>511381</th>\n",
       "      <td>K371</td>\n",
       "      <td>9957.0</td>\n",
       "      <td>100.0</td>\n",
       "      <td>1101.5</td>\n",
       "      <td>1211.0</td>\n",
       "      <td>896.0</td>\n",
       "      <td>1.68</td>\n",
       "      <td>504</td>\n",
       "      <td>1924</td>\n",
       "      <td>68</td>\n",
       "      <td>...</td>\n",
       "      <td>84</td>\n",
       "      <td>378</td>\n",
       "      <td>365</td>\n",
       "      <td>1</td>\n",
       "      <td>18</td>\n",
       "      <td>7</td>\n",
       "      <td>206</td>\n",
       "      <td>4</td>\n",
       "      <td>10</td>\n",
       "      <td>0</td>\n",
       "    </tr>\n",
       "    <tr>\n",
       "      <th>532359</th>\n",
       "      <td>K371</td>\n",
       "      <td>9811.0</td>\n",
       "      <td>98.0</td>\n",
       "      <td>1293.5</td>\n",
       "      <td>1169.0</td>\n",
       "      <td>901.0</td>\n",
       "      <td>5.98</td>\n",
       "      <td>289</td>\n",
       "      <td>2051</td>\n",
       "      <td>35</td>\n",
       "      <td>...</td>\n",
       "      <td>167</td>\n",
       "      <td>257</td>\n",
       "      <td>248</td>\n",
       "      <td>1</td>\n",
       "      <td>36</td>\n",
       "      <td>5</td>\n",
       "      <td>282</td>\n",
       "      <td>0</td>\n",
       "      <td>37</td>\n",
       "      <td>0</td>\n",
       "    </tr>\n",
       "    <tr>\n",
       "      <th>440921</th>\n",
       "      <td>K821</td>\n",
       "      <td>10490.0</td>\n",
       "      <td>105.0</td>\n",
       "      <td>1211.2</td>\n",
       "      <td>1188.0</td>\n",
       "      <td>866.0</td>\n",
       "      <td>1.47</td>\n",
       "      <td>777</td>\n",
       "      <td>3547</td>\n",
       "      <td>135</td>\n",
       "      <td>...</td>\n",
       "      <td>123</td>\n",
       "      <td>324</td>\n",
       "      <td>312</td>\n",
       "      <td>1</td>\n",
       "      <td>42</td>\n",
       "      <td>10</td>\n",
       "      <td>255</td>\n",
       "      <td>1</td>\n",
       "      <td>20</td>\n",
       "      <td>0</td>\n",
       "    </tr>\n",
       "    <tr>\n",
       "      <th>431592</th>\n",
       "      <td>K371</td>\n",
       "      <td>9831.0</td>\n",
       "      <td>98.0</td>\n",
       "      <td>1100.2</td>\n",
       "      <td>1183.0</td>\n",
       "      <td>898.0</td>\n",
       "      <td>1.65</td>\n",
       "      <td>412</td>\n",
       "      <td>1691</td>\n",
       "      <td>71</td>\n",
       "      <td>...</td>\n",
       "      <td>71</td>\n",
       "      <td>310</td>\n",
       "      <td>310</td>\n",
       "      <td>0</td>\n",
       "      <td>58</td>\n",
       "      <td>5</td>\n",
       "      <td>157</td>\n",
       "      <td>1</td>\n",
       "      <td>2</td>\n",
       "      <td>0</td>\n",
       "    </tr>\n",
       "  </tbody>\n",
       "</table>\n",
       "<p>5 rows × 22 columns</p>\n",
       "</div>"
      ],
      "text/plain": [
       "       analyse  Hardness_1  Hardness_2   Width  \\\n",
       "coil                                             \n",
       "404131   L971      17039.0       164.0  1326.1   \n",
       "511381   K371       9957.0       100.0  1101.5   \n",
       "532359   K371       9811.0        98.0  1293.5   \n",
       "440921   K821      10490.0       105.0  1211.2   \n",
       "431592   K371       9831.0        98.0  1100.2   \n",
       "\n",
       "        Temperature before finishing mill  Temperature after finishing mill  \\\n",
       "coil                                                                          \n",
       "404131                             1171.0                             913.0   \n",
       "511381                             1211.0                             896.0   \n",
       "532359                             1169.0                             901.0   \n",
       "440921                             1188.0                             866.0   \n",
       "431592                             1183.0                             898.0   \n",
       "\n",
       "        Thickness     c     mn     si  ...    s   al   ma  b   n  ti    cr  \\\n",
       "coil                                   ...                                   \n",
       "404131       2.05  2037  21830  15070  ...   11  381  370  6  48  78  2066   \n",
       "511381       1.68   504   1924     68  ...   84  378  365  1  18   7   206   \n",
       "532359       5.98   289   2051     35  ...  167  257  248  1  36   5   282   \n",
       "440921       1.47   777   3547    135  ...  123  324  312  1  42  10   255   \n",
       "431592       1.65   412   1691     71  ...   71  310  310  0  58   5   157   \n",
       "\n",
       "        va  mo  Target Label  \n",
       "coil                          \n",
       "404131  28  27             0  \n",
       "511381   4  10             0  \n",
       "532359   0  37             0  \n",
       "440921   1  20             0  \n",
       "431592   1   2             0  \n",
       "\n",
       "[5 rows x 22 columns]"
      ]
     },
     "execution_count": 100,
     "metadata": {},
     "output_type": "execute_result"
    }
   ],
   "source": [
    "dataframe = dataframe.set_index('coil')\n",
    "dataframe.head(5)"
   ]
  },
  {
   "cell_type": "code",
   "execution_count": 101,
   "metadata": {},
   "outputs": [
    {
     "data": {
      "text/plain": [
       "(5935, 22)"
      ]
     },
     "execution_count": 101,
     "metadata": {},
     "output_type": "execute_result"
    }
   ],
   "source": [
    "dataframe.shape"
   ]
  },
  {
   "cell_type": "code",
   "execution_count": 102,
   "metadata": {},
   "outputs": [
    {
     "name": "stdout",
     "output_type": "stream",
     "text": [
      "<class 'pandas.core.frame.DataFrame'>\n",
      "Int64Index: 5935 entries, 404131 to 15623\n",
      "Data columns (total 22 columns):\n",
      " #   Column                             Non-Null Count  Dtype  \n",
      "---  ------                             --------------  -----  \n",
      " 0   analyse                            5935 non-null   object \n",
      " 1   Hardness_1                         5935 non-null   float64\n",
      " 2   Hardness_2                         5935 non-null   float64\n",
      " 3   Width                              5935 non-null   float64\n",
      " 4   Temperature before finishing mill  5935 non-null   float64\n",
      " 5   Temperature after finishing mill   5935 non-null   float64\n",
      " 6   Thickness                          5935 non-null   float64\n",
      " 7   c                                  5935 non-null   int64  \n",
      " 8   mn                                 5935 non-null   int64  \n",
      " 9   si                                 5935 non-null   int64  \n",
      " 10  nb                                 5935 non-null   int64  \n",
      " 11  p                                  5935 non-null   int64  \n",
      " 12  s                                  5935 non-null   int64  \n",
      " 13  al                                 5935 non-null   int64  \n",
      " 14  ma                                 5935 non-null   int64  \n",
      " 15  b                                  5935 non-null   int64  \n",
      " 16  n                                  5935 non-null   int64  \n",
      " 17  ti                                 5935 non-null   int64  \n",
      " 18  cr                                 5935 non-null   int64  \n",
      " 19  va                                 5935 non-null   int64  \n",
      " 20  mo                                 5935 non-null   int64  \n",
      " 21  Target Label                       5935 non-null   int64  \n",
      "dtypes: float64(6), int64(15), object(1)\n",
      "memory usage: 1.0+ MB\n"
     ]
    }
   ],
   "source": [
    "dataframe.info()"
   ]
  },
  {
   "cell_type": "code",
   "execution_count": 103,
   "metadata": {},
   "outputs": [
    {
     "data": {
      "text/html": [
       "<div>\n",
       "<style scoped>\n",
       "    .dataframe tbody tr th:only-of-type {\n",
       "        vertical-align: middle;\n",
       "    }\n",
       "\n",
       "    .dataframe tbody tr th {\n",
       "        vertical-align: top;\n",
       "    }\n",
       "\n",
       "    .dataframe thead th {\n",
       "        text-align: right;\n",
       "    }\n",
       "</style>\n",
       "<table border=\"1\" class=\"dataframe\">\n",
       "  <thead>\n",
       "    <tr style=\"text-align: right;\">\n",
       "      <th></th>\n",
       "      <th>Hardness_1</th>\n",
       "      <th>Hardness_2</th>\n",
       "      <th>Width</th>\n",
       "      <th>Temperature before finishing mill</th>\n",
       "      <th>Temperature after finishing mill</th>\n",
       "      <th>Thickness</th>\n",
       "      <th>c</th>\n",
       "      <th>mn</th>\n",
       "      <th>si</th>\n",
       "      <th>nb</th>\n",
       "      <th>...</th>\n",
       "      <th>s</th>\n",
       "      <th>al</th>\n",
       "      <th>ma</th>\n",
       "      <th>b</th>\n",
       "      <th>n</th>\n",
       "      <th>ti</th>\n",
       "      <th>cr</th>\n",
       "      <th>va</th>\n",
       "      <th>mo</th>\n",
       "      <th>Target Label</th>\n",
       "    </tr>\n",
       "  </thead>\n",
       "  <tbody>\n",
       "    <tr>\n",
       "      <th>count</th>\n",
       "      <td>5935.000000</td>\n",
       "      <td>5935.000000</td>\n",
       "      <td>5935.000000</td>\n",
       "      <td>5935.000000</td>\n",
       "      <td>5935.000000</td>\n",
       "      <td>5935.000000</td>\n",
       "      <td>5935.000000</td>\n",
       "      <td>5935.000000</td>\n",
       "      <td>5935.000000</td>\n",
       "      <td>5935.000000</td>\n",
       "      <td>...</td>\n",
       "      <td>5935.000000</td>\n",
       "      <td>5935.000000</td>\n",
       "      <td>5935.000000</td>\n",
       "      <td>5935.000000</td>\n",
       "      <td>5935.000000</td>\n",
       "      <td>5935.000000</td>\n",
       "      <td>5935.000000</td>\n",
       "      <td>5935.000000</td>\n",
       "      <td>5935.000000</td>\n",
       "      <td>5935.000000</td>\n",
       "    </tr>\n",
       "    <tr>\n",
       "      <th>mean</th>\n",
       "      <td>11363.057287</td>\n",
       "      <td>112.574726</td>\n",
       "      <td>1220.449412</td>\n",
       "      <td>1169.725190</td>\n",
       "      <td>916.542582</td>\n",
       "      <td>3.237589</td>\n",
       "      <td>640.357035</td>\n",
       "      <td>8035.498736</td>\n",
       "      <td>1081.113732</td>\n",
       "      <td>71.233361</td>\n",
       "      <td>...</td>\n",
       "      <td>72.616681</td>\n",
       "      <td>477.880708</td>\n",
       "      <td>463.394608</td>\n",
       "      <td>3.304465</td>\n",
       "      <td>38.156698</td>\n",
       "      <td>121.864195</td>\n",
       "      <td>796.886436</td>\n",
       "      <td>14.544398</td>\n",
       "      <td>66.212805</td>\n",
       "      <td>0.494524</td>\n",
       "    </tr>\n",
       "    <tr>\n",
       "      <th>std</th>\n",
       "      <td>1606.819885</td>\n",
       "      <td>18.273752</td>\n",
       "      <td>234.921434</td>\n",
       "      <td>23.892704</td>\n",
       "      <td>19.504378</td>\n",
       "      <td>0.952955</td>\n",
       "      <td>501.847706</td>\n",
       "      <td>8275.811508</td>\n",
       "      <td>2506.693190</td>\n",
       "      <td>149.251200</td>\n",
       "      <td>...</td>\n",
       "      <td>45.734044</td>\n",
       "      <td>519.807630</td>\n",
       "      <td>510.748721</td>\n",
       "      <td>5.893688</td>\n",
       "      <td>13.087313</td>\n",
       "      <td>197.806379</td>\n",
       "      <td>1021.841289</td>\n",
       "      <td>19.184319</td>\n",
       "      <td>203.169775</td>\n",
       "      <td>0.500012</td>\n",
       "    </tr>\n",
       "    <tr>\n",
       "      <th>min</th>\n",
       "      <td>9600.000000</td>\n",
       "      <td>87.000000</td>\n",
       "      <td>625.800000</td>\n",
       "      <td>1041.000000</td>\n",
       "      <td>820.000000</td>\n",
       "      <td>1.400000</td>\n",
       "      <td>12.000000</td>\n",
       "      <td>569.000000</td>\n",
       "      <td>18.000000</td>\n",
       "      <td>0.000000</td>\n",
       "      <td>...</td>\n",
       "      <td>0.000000</td>\n",
       "      <td>160.000000</td>\n",
       "      <td>148.000000</td>\n",
       "      <td>0.000000</td>\n",
       "      <td>0.000000</td>\n",
       "      <td>1.000000</td>\n",
       "      <td>79.000000</td>\n",
       "      <td>0.000000</td>\n",
       "      <td>0.000000</td>\n",
       "      <td>0.000000</td>\n",
       "    </tr>\n",
       "    <tr>\n",
       "      <th>25%</th>\n",
       "      <td>10043.000000</td>\n",
       "      <td>99.000000</td>\n",
       "      <td>1050.800000</td>\n",
       "      <td>1155.000000</td>\n",
       "      <td>906.000000</td>\n",
       "      <td>2.510000</td>\n",
       "      <td>358.000000</td>\n",
       "      <td>1936.500000</td>\n",
       "      <td>63.000000</td>\n",
       "      <td>0.000000</td>\n",
       "      <td>...</td>\n",
       "      <td>24.000000</td>\n",
       "      <td>320.000000</td>\n",
       "      <td>306.000000</td>\n",
       "      <td>1.000000</td>\n",
       "      <td>27.000000</td>\n",
       "      <td>9.000000</td>\n",
       "      <td>218.000000</td>\n",
       "      <td>0.000000</td>\n",
       "      <td>16.000000</td>\n",
       "      <td>0.000000</td>\n",
       "    </tr>\n",
       "    <tr>\n",
       "      <th>50%</th>\n",
       "      <td>10482.000000</td>\n",
       "      <td>103.000000</td>\n",
       "      <td>1242.000000</td>\n",
       "      <td>1171.000000</td>\n",
       "      <td>921.000000</td>\n",
       "      <td>3.200000</td>\n",
       "      <td>470.000000</td>\n",
       "      <td>2215.000000</td>\n",
       "      <td>103.000000</td>\n",
       "      <td>1.000000</td>\n",
       "      <td>...</td>\n",
       "      <td>79.000000</td>\n",
       "      <td>361.000000</td>\n",
       "      <td>347.000000</td>\n",
       "      <td>1.000000</td>\n",
       "      <td>38.000000</td>\n",
       "      <td>17.000000</td>\n",
       "      <td>267.000000</td>\n",
       "      <td>4.000000</td>\n",
       "      <td>20.000000</td>\n",
       "      <td>0.000000</td>\n",
       "    </tr>\n",
       "    <tr>\n",
       "      <th>75%</th>\n",
       "      <td>12602.000000</td>\n",
       "      <td>124.000000</td>\n",
       "      <td>1367.400000</td>\n",
       "      <td>1186.000000</td>\n",
       "      <td>929.000000</td>\n",
       "      <td>3.850000</td>\n",
       "      <td>762.000000</td>\n",
       "      <td>16360.000000</td>\n",
       "      <td>1954.000000</td>\n",
       "      <td>13.000000</td>\n",
       "      <td>...</td>\n",
       "      <td>109.000000</td>\n",
       "      <td>445.000000</td>\n",
       "      <td>431.500000</td>\n",
       "      <td>3.000000</td>\n",
       "      <td>47.000000</td>\n",
       "      <td>188.000000</td>\n",
       "      <td>445.000000</td>\n",
       "      <td>25.000000</td>\n",
       "      <td>26.000000</td>\n",
       "      <td>1.000000</td>\n",
       "    </tr>\n",
       "    <tr>\n",
       "      <th>max</th>\n",
       "      <td>17362.000000</td>\n",
       "      <td>167.000000</td>\n",
       "      <td>1904.900000</td>\n",
       "      <td>1255.000000</td>\n",
       "      <td>976.000000</td>\n",
       "      <td>8.000000</td>\n",
       "      <td>2351.000000</td>\n",
       "      <td>25900.000000</td>\n",
       "      <td>16910.000000</td>\n",
       "      <td>737.000000</td>\n",
       "      <td>...</td>\n",
       "      <td>285.000000</td>\n",
       "      <td>5986.000000</td>\n",
       "      <td>5881.000000</td>\n",
       "      <td>39.000000</td>\n",
       "      <td>115.000000</td>\n",
       "      <td>1249.000000</td>\n",
       "      <td>5651.000000</td>\n",
       "      <td>118.000000</td>\n",
       "      <td>1200.000000</td>\n",
       "      <td>1.000000</td>\n",
       "    </tr>\n",
       "  </tbody>\n",
       "</table>\n",
       "<p>8 rows × 21 columns</p>\n",
       "</div>"
      ],
      "text/plain": [
       "         Hardness_1   Hardness_2        Width  \\\n",
       "count   5935.000000  5935.000000  5935.000000   \n",
       "mean   11363.057287   112.574726  1220.449412   \n",
       "std     1606.819885    18.273752   234.921434   \n",
       "min     9600.000000    87.000000   625.800000   \n",
       "25%    10043.000000    99.000000  1050.800000   \n",
       "50%    10482.000000   103.000000  1242.000000   \n",
       "75%    12602.000000   124.000000  1367.400000   \n",
       "max    17362.000000   167.000000  1904.900000   \n",
       "\n",
       "       Temperature before finishing mill  Temperature after finishing mill  \\\n",
       "count                        5935.000000                       5935.000000   \n",
       "mean                         1169.725190                        916.542582   \n",
       "std                            23.892704                         19.504378   \n",
       "min                          1041.000000                        820.000000   \n",
       "25%                          1155.000000                        906.000000   \n",
       "50%                          1171.000000                        921.000000   \n",
       "75%                          1186.000000                        929.000000   \n",
       "max                          1255.000000                        976.000000   \n",
       "\n",
       "         Thickness            c            mn            si           nb  ...  \\\n",
       "count  5935.000000  5935.000000   5935.000000   5935.000000  5935.000000  ...   \n",
       "mean      3.237589   640.357035   8035.498736   1081.113732    71.233361  ...   \n",
       "std       0.952955   501.847706   8275.811508   2506.693190   149.251200  ...   \n",
       "min       1.400000    12.000000    569.000000     18.000000     0.000000  ...   \n",
       "25%       2.510000   358.000000   1936.500000     63.000000     0.000000  ...   \n",
       "50%       3.200000   470.000000   2215.000000    103.000000     1.000000  ...   \n",
       "75%       3.850000   762.000000  16360.000000   1954.000000    13.000000  ...   \n",
       "max       8.000000  2351.000000  25900.000000  16910.000000   737.000000  ...   \n",
       "\n",
       "                 s           al           ma            b            n  \\\n",
       "count  5935.000000  5935.000000  5935.000000  5935.000000  5935.000000   \n",
       "mean     72.616681   477.880708   463.394608     3.304465    38.156698   \n",
       "std      45.734044   519.807630   510.748721     5.893688    13.087313   \n",
       "min       0.000000   160.000000   148.000000     0.000000     0.000000   \n",
       "25%      24.000000   320.000000   306.000000     1.000000    27.000000   \n",
       "50%      79.000000   361.000000   347.000000     1.000000    38.000000   \n",
       "75%     109.000000   445.000000   431.500000     3.000000    47.000000   \n",
       "max     285.000000  5986.000000  5881.000000    39.000000   115.000000   \n",
       "\n",
       "                ti           cr           va           mo  Target Label  \n",
       "count  5935.000000  5935.000000  5935.000000  5935.000000   5935.000000  \n",
       "mean    121.864195   796.886436    14.544398    66.212805      0.494524  \n",
       "std     197.806379  1021.841289    19.184319   203.169775      0.500012  \n",
       "min       1.000000    79.000000     0.000000     0.000000      0.000000  \n",
       "25%       9.000000   218.000000     0.000000    16.000000      0.000000  \n",
       "50%      17.000000   267.000000     4.000000    20.000000      0.000000  \n",
       "75%     188.000000   445.000000    25.000000    26.000000      1.000000  \n",
       "max    1249.000000  5651.000000   118.000000  1200.000000      1.000000  \n",
       "\n",
       "[8 rows x 21 columns]"
      ]
     },
     "execution_count": 103,
     "metadata": {},
     "output_type": "execute_result"
    }
   ],
   "source": [
    "dataframe.describe()\n",
    "\n",
    "# Max outliers: Thickness and chemical compositions\n",
    "# Use RobustScaler for outliers?"
   ]
  },
  {
   "cell_type": "markdown",
   "metadata": {},
   "source": [
    "### Encode dataframe.analyse"
   ]
  },
  {
   "cell_type": "markdown",
   "metadata": {},
   "source": [
    "Altneratively: cluster letters and drop the numbers, use one hot encoder"
   ]
  },
  {
   "cell_type": "code",
   "execution_count": 104,
   "metadata": {},
   "outputs": [
    {
     "data": {
      "text/plain": [
       "array(['L971 ', 'K371 ', 'K821 ', 'LK41 ', 'LT41 ', 'LM41 ', 'K211 ',\n",
       "       'KT21 ', 'L631 ', 'L721 ', 'KM81 ', 'N711 ', 'TB01 ', 'T251 ',\n",
       "       'K321 ', 'LT71 ', 'KK81 ', 'L781 ', 'KM95 ', 'K111 ', 'T271 ',\n",
       "       'L651 ', 'LK51 ', 'LK42 ', 'KN71 ', 'LM42 ', 'K571 ', 'K711 ',\n",
       "       'K131 ', 'L711 ', 'L621 ', 'KT71 ', 'KM51 ', 'KN31 ', 'T221 ',\n",
       "       'L671 ', 'KT31 ', 'KM41 ', 'KT91 ', 'L471 ', 'K391 ', 'K351 ',\n",
       "       'LK21 ', 'KB31 ', 'KM21 ', 'NB01 ', 'L729 ', 'KK01 ', 'T212 ',\n",
       "       'T218 ', 'KK22 ', 'KN51 ', 'T211 ', 'KT33 ', 'T231 ', 'K451 ',\n",
       "       'KT24 ', 'LK61 ', 'L951 ', 'K101 ', 'LK71 ', 'KN21 ', 'NB03 ',\n",
       "       'K201 ', 'K326 ', 'KM88 ', 'K208 ', 'K461 ', 'TB61 ', 'L782 ',\n",
       "       'L851 ', 'TB51 ', 'K271 ', 'K171 ', 'KN41 ', 'LT49 ', 'KT32 ',\n",
       "       'L741 ', 'L628 ', 'LT73 ', 'KN42 ', 'KN52 ', 'TB03 ', 'KM31 ',\n",
       "       'K108 ', 'KK51 ', 'L698 ', 'KB38 ', 'T261 ', 'KM52 ', 'KM71 ',\n",
       "       'L678 ', 'TB02 ', 'KM22 ', 'KK08 ', 'T214 ', 'KN38 ', 'L611 ',\n",
       "       'KK28 ', 'K341 ', 'L501 ', 'L761 ', 'KR51 ', 'K323 ', 'T234 ',\n",
       "       'KM53 ', 'KK13 ', 'LK79 ', 'K691 ', 'KN72 ', 'L491 ', 'TB53 ',\n",
       "       'L718 ', 'LM51 ', 'TB31 ', 'L978 ', 'K328 ', 'T213 ', 'L958 ',\n",
       "       'KN11 ', 'KT11 ', 'KM42 ', 'KN78 ', 'L511 ', 'LK78 ', 'KN53 ',\n",
       "       'KN99 ', 'KT38 ', 'K448 ', 'KK99 ', 'KM82 ', 'L789 ', 'K999 ',\n",
       "       'K441 ', 'L748 ', 'K102 ', 'K828 ', 'K692 ', 'LK28 ', 'L719 ',\n",
       "       'LT72 ', 'N691 ', 'LT79 ', 'LK99 '], dtype=object)"
      ]
     },
     "execution_count": 104,
     "metadata": {},
     "output_type": "execute_result"
    }
   ],
   "source": [
    "dataframe.analyse.unique()"
   ]
  },
  {
   "cell_type": "code",
   "execution_count": 105,
   "metadata": {},
   "outputs": [],
   "source": [
    "encoder = LabelEncoder()\n",
    "dataframe['analyse'] = encoder.fit_transform(dataframe.analyse.values)"
   ]
  },
  {
   "cell_type": "code",
   "execution_count": 106,
   "metadata": {},
   "outputs": [
    {
     "data": {
      "text/plain": [
       "array([101,  16,  26, 105, 116, 113,   8,  67,  82,  90,  48, 123, 137,\n",
       "       134,  10, 118,  37,  95,  51,   3, 136,  83, 107, 106,  61, 114,\n",
       "        22,  25,   4,  87,  80,  73,  44,  54, 131,  84,  69,  42,  74,\n",
       "        75,  17,  15, 103,  29,  39, 124,  91,  31, 127, 130,  34,  58,\n",
       "       126,  71, 132,  20,  68, 108,  99,   0, 109,  53, 125,   6,  12,\n",
       "        50,   7,  21, 143,  96,  98, 141,   9,   5,  56, 117,  70,  92,\n",
       "        81, 120,  57,  59, 139,  41,   2,  36,  86,  30, 135,  45,  47,\n",
       "        85, 138,  40,  32, 129,  55,  79,  35,  14,  77,  94,  65,  11,\n",
       "       133,  46,  33, 111,  23,  62,  76, 142,  88, 115, 140, 102,  13,\n",
       "       128, 100,  52,  66,  43,  63,  78, 110,  60,  64,  72,  19,  38,\n",
       "        49,  97,  28,  18,  93,   1,  27,  24, 104,  89, 119, 122, 121,\n",
       "       112])"
      ]
     },
     "execution_count": 106,
     "metadata": {},
     "output_type": "execute_result"
    }
   ],
   "source": [
    "dataframe.analyse.unique()"
   ]
  },
  {
   "cell_type": "markdown",
   "metadata": {},
   "source": [
    "### Check for correlations between features"
   ]
  },
  {
   "cell_type": "markdown",
   "metadata": {},
   "source": [
    "Use PCA for variables that strongly correlations? "
   ]
  },
  {
   "cell_type": "code",
   "execution_count": 107,
   "metadata": {},
   "outputs": [
    {
     "name": "stdout",
     "output_type": "stream",
     "text": [
      "Top Absolute Correlations\n",
      "al          ma            0.999808\n",
      "Hardness_1  Hardness_2    0.946185\n",
      "mn          s             0.848289\n",
      "Hardness_1  mn            0.847910\n",
      "Hardness_2  mn            0.845759\n",
      "mn          cr            0.804234\n",
      "Hardness_1  s             0.788742\n",
      "            si            0.776341\n",
      "Hardness_2  s             0.771151\n",
      "c           mn            0.766271\n",
      "Hardness_2  c             0.765594\n",
      "Hardness_1  c             0.764648\n",
      "mn          va            0.753170\n",
      "c           s             0.683735\n",
      "Hardness_2  si            0.676852\n",
      "s           cr            0.658608\n",
      "c           si            0.657648\n",
      "Hardness_1  va            0.641629\n",
      "Hardness_2  n             0.630861\n",
      "s           va            0.629731\n",
      "Hardness_2  va            0.621728\n",
      "mn          n             0.620224\n",
      "b           mo            0.614166\n",
      "dtype: float64\n"
     ]
    }
   ],
   "source": [
    "def get_redundant_pairs(df):\n",
    "    '''Get diagonal and lower triangular pairs of correlation matrix'''\n",
    "    pairs_to_drop = set()\n",
    "    cols = df.columns\n",
    "    for i in range(0, df.shape[1]):\n",
    "        for j in range(0, i+1):\n",
    "            pairs_to_drop.add((cols[i], cols[j]))\n",
    "    return pairs_to_drop\n",
    "\n",
    "def get_top_abs_correlations(df, n=23):\n",
    "    au_corr = df.corr().abs().unstack()\n",
    "    labels_to_drop = get_redundant_pairs(df)\n",
    "    au_corr = au_corr.drop(labels=labels_to_drop).sort_values(ascending=False)\n",
    "    return au_corr[0:n]\n",
    "\n",
    "print(\"Top Absolute Correlations\")\n",
    "print(get_top_abs_correlations(dataframe, 23))"
   ]
  },
  {
   "cell_type": "markdown",
   "metadata": {},
   "source": [
    "### Declare variabels, split train_test"
   ]
  },
  {
   "cell_type": "code",
   "execution_count": 108,
   "metadata": {},
   "outputs": [],
   "source": [
    "X = dataframe.drop(columns = ['Target Label'])\n",
    "y = dataframe['Target Label']"
   ]
  },
  {
   "cell_type": "code",
   "execution_count": 109,
   "metadata": {},
   "outputs": [
    {
     "name": "stdout",
     "output_type": "stream",
     "text": [
      "Observations: 5935 5935\n",
      "Train Dataset: (4748, 21) (4748,)\n",
      "Test Dataset: (1187, 21) (1187,)\n"
     ]
    }
   ],
   "source": [
    "X_train, X_test, y_train, y_test = train_test_split(X, y, test_size=0.2, random_state=42)\n",
    "print('Observations: %d' % (len(X)), len(y))\n",
    "print('Train Dataset:', X_train.shape, y_train.shape)\n",
    "print('Test Dataset:', X_test.shape, y_test.shape)"
   ]
  },
  {
   "cell_type": "markdown",
   "metadata": {},
   "source": [
    "### Classification models"
   ]
  },
  {
   "cell_type": "code",
   "execution_count": 110,
   "metadata": {},
   "outputs": [],
   "source": [
    "# Make pipelines\n",
    "pipelineKNN = Pipeline([\n",
    "    ('normalizer', StandardScaler()), #Step1 - normalize data\n",
    "    ('clf', KNeighborsClassifier()) #step2 - classifier\n",
    "])\n",
    "\n",
    "pipelineSVM = Pipeline([\n",
    "    ('normalizer', StandardScaler()), #Step1 - normalize data\n",
    "    ('clf', SVC()) #step2 - classifier\n",
    "])\n",
    "\n",
    "pipelineNN = Pipeline([\n",
    "    ('normalizer', StandardScaler()), #Step1 - normalize data\n",
    "    ('clf', MLPClassifier()) #step2 - classifier\n",
    "])"
   ]
  },
  {
   "cell_type": "code",
   "execution_count": 62,
   "metadata": {},
   "outputs": [],
   "source": [
    "dict_classifiers = {\n",
    "    \"Logistic Regression\": LogisticRegression(),\n",
    "    \"Nearest Neighbors\": pipelineKNN,\n",
    "    \"Support Vector Machine\": pipelineSVM,\n",
    "    \"Gradient Boosting Classifier\": XGBClassifier(),\n",
    "    \"Decision Tree\": DecisionTreeClassifier(),\n",
    "    \"Random Forest\": RandomForestClassifier(),\n",
    "    \"Neural Net\": pipelineNN,\n",
    "    \"Naive Bayes\": GaussianNB()\n",
    "}"
   ]
  },
  {
   "cell_type": "code",
   "execution_count": 63,
   "metadata": {},
   "outputs": [],
   "source": [
    "no_classifiers = len(dict_classifiers.keys())\n",
    "\n",
    "def batch_classify(X_train, y_train, verbose = True):\n",
    "    df_results = pd.DataFrame(data=np.zeros(shape=(no_classifiers,3)),\n",
    "                              columns = ['Classifiers', 'Train_score', 'Training_time'])\n",
    "    count = 0\n",
    "    for key, classifier in dict_classifiers.items():\n",
    "        t_start = time.process_time()\n",
    "        classifier.fit(X_train, y_train)\n",
    "        t_end = time.process_time()\n",
    "        t_diff = t_end - t_start\n",
    "        train_score = classifier.score(X_train, y_train)\n",
    "        df_results.loc[count,'Classifiers'] = key\n",
    "        df_results.loc[count, 'Train_score'] = train_score\n",
    "        df_results.loc[count, 'Training_time'] = t_diff\n",
    "        if verbose:\n",
    "            print(\"trained {c} in {f:.2f} s\".format(c=key, f=t_diff))\n",
    "        count+=1\n",
    "    return df_results"
   ]
  },
  {
   "cell_type": "code",
   "execution_count": 64,
   "metadata": {},
   "outputs": [
    {
     "name": "stdout",
     "output_type": "stream",
     "text": [
      "trained Logistic Regression in 0.25 s\n",
      "trained Nearest Neighbors in 0.04 s\n",
      "trained Support Vector Machine in 0.96 s\n",
      "[15:13:19] WARNING: /Users/travis/build/dmlc/xgboost/src/learner.cc:1061: Starting in XGBoost 1.3.0, the default evaluation metric used with the objective 'binary:logistic' was changed from 'error' to 'logloss'. Explicitly set eval_metric if you'd like to restore the old behavior.\n",
      "trained Gradient Boosting Classifier in 3.30 s\n",
      "trained Decision Tree in 0.39 s\n",
      "trained Random Forest in 1.59 s\n",
      "trained Neural Net in 15.24 s\n",
      "trained Naive Bayes in 0.01 s\n",
      "                    Classifiers  Train_score  Training_time\n",
      "0           Logistic Regression     0.622578       0.252629\n",
      "7                   Naive Bayes     0.671441       0.014566\n",
      "2        Support Vector Machine     0.810447       0.962726\n",
      "6                    Neural Net     0.837195      15.239895\n",
      "1             Nearest Neighbors     0.845198       0.044328\n",
      "3  Gradient Boosting Classifier     0.992418       3.302093\n",
      "5                 Random Forest     0.999789       1.591569\n",
      "4                 Decision Tree     1.000000       0.387500\n"
     ]
    }
   ],
   "source": [
    "df_results = batch_classify(X_train, y_train)\n",
    "print(df_results.sort_values(by='Train_score', ascending=True))"
   ]
  },
  {
   "cell_type": "markdown",
   "metadata": {},
   "source": [
    "### Random Forest: further finetuning"
   ]
  },
  {
   "cell_type": "markdown",
   "metadata": {},
   "source": [
    "#### Validation curves"
   ]
  },
  {
   "cell_type": "code",
   "execution_count": 17,
   "metadata": {},
   "outputs": [
    {
     "name": "stdout",
     "output_type": "stream",
     "text": [
      "Parameters currently in use:\n",
      "\n",
      "{'bootstrap': True, 'ccp_alpha': 0.0, 'class_weight': None, 'criterion': 'gini', 'max_depth': None, 'max_features': 'auto', 'max_leaf_nodes': None, 'max_samples': None, 'min_impurity_decrease': 0.0, 'min_impurity_split': None, 'min_samples_leaf': 1, 'min_samples_split': 2, 'min_weight_fraction_leaf': 0.0, 'n_estimators': 100, 'n_jobs': None, 'oob_score': False, 'random_state': None, 'verbose': 0, 'warm_start': False}\n"
     ]
    }
   ],
   "source": [
    "rf = RandomForestClassifier()\n",
    "# Look at parameters used by our current forest\n",
    "print('Parameters currently in use:\\n')\n",
    "print(rf.get_params())"
   ]
  },
  {
   "cell_type": "raw",
   "metadata": {},
   "source": [
    "n_estimators = number of trees in the foreset\n",
    "max_features = max number of features considered for splitting a node\n",
    "max_depth = max number of levels in each decision tree\n",
    "min_samples_split = min number of data points placed in a node before the node is split\n",
    "min_samples_leaf = min number of data points allowed in a leaf node\n",
    "bootstrap = method for sampling data points (with or without replacement)"
   ]
  },
  {
   "cell_type": "code",
   "execution_count": 18,
   "metadata": {},
   "outputs": [
    {
     "data": {
      "image/png": "[encoded data removed]",
      "text/plain": [
       "<Figure size 432x288 with 1 Axes>"
      ]
     },
     "metadata": {
      "needs_background": "light"
     },
     "output_type": "display_data"
    }
   ],
   "source": [
    "param_range = np.arange(1, 200)\n",
    "\n",
    "train_score, val_score = validation_curve(RandomForestClassifier(), X_train, y_train,\n",
    "                                                        param_name='n_estimators', \n",
    "                                                        param_range=param_range,\n",
    "                                                        scoring='accuracy',cv=10, n_jobs=-1)\n",
    "plt.plot(param_range, np.median(train_score, 1), color='blue', label='training score')\n",
    "plt.plot(param_range, np.median(val_score, 1), color='red', label='validation score')\n",
    "plt.legend(loc='best')\n",
    "plt.ylim(0, 1)\n",
    "plt.xlabel('n_estimators')\n",
    "plt.ylabel('score')\n",
    "plt.show()"
   ]
  },
  {
   "cell_type": "code",
   "execution_count": 19,
   "metadata": {},
   "outputs": [
    {
     "data": {
      "image/png": "[encoded data removed]",
      "text/plain": [
       "<Figure size 432x288 with 1 Axes>"
      ]
     },
     "metadata": {
      "needs_background": "light"
     },
     "output_type": "display_data"
    }
   ],
   "source": [
    "param_range = np.arange(1, 200)\n",
    "\n",
    "train_score, val_score = validation_curve(RandomForestClassifier(), X_train, y_train,\n",
    "                                                        param_name='max_depth', \n",
    "                                                        param_range=param_range,\n",
    "                                                        scoring='accuracy',cv=10, n_jobs=-1)\n",
    "plt.plot(param_range, np.median(train_score, 1), color='blue', label='training score')\n",
    "plt.plot(param_range, np.median(val_score, 1), color='red', label='validation score')\n",
    "plt.legend(loc='best')\n",
    "plt.ylim(0, 1)\n",
    "plt.xlabel('max_depth')\n",
    "plt.ylabel('score')\n",
    "plt.show()"
   ]
  },
  {
   "cell_type": "code",
   "execution_count": 21,
   "metadata": {},
   "outputs": [
    {
     "data": {
      "image/png": "[encoded data removed]",
      "text/plain": [
       "<Figure size 432x288 with 1 Axes>"
      ]
     },
     "metadata": {
      "needs_background": "light"
     },
     "output_type": "display_data"
    }
   ],
   "source": [
    "param_range = np.arange(1, 50)\n",
    "\n",
    "train_score, val_score = validation_curve(RandomForestClassifier(), X_train, y_train,\n",
    "                                                        param_name='min_samples_split', \n",
    "                                                        param_range=param_range,\n",
    "                                                        scoring='accuracy',cv=10, n_jobs=-1)\n",
    "plt.plot(param_range, np.median(train_score, 1), color='blue', label='training score')\n",
    "plt.plot(param_range, np.median(val_score, 1), color='red', label='validation score')\n",
    "plt.legend(loc='best')\n",
    "plt.ylim(0, 1)\n",
    "plt.xlabel('Min_samples_split')\n",
    "plt.ylabel('score')\n",
    "plt.show()"
   ]
  },
  {
   "cell_type": "code",
   "execution_count": 22,
   "metadata": {},
   "outputs": [
    {
     "data": {
      "image/png": "[encoded data removed]",
      "text/plain": [
       "<Figure size 432x288 with 1 Axes>"
      ]
     },
     "metadata": {
      "needs_background": "light"
     },
     "output_type": "display_data"
    }
   ],
   "source": [
    "param_range = np.arange(1, 50)\n",
    "\n",
    "train_score, val_score = validation_curve(RandomForestClassifier(), X_train, y_train,\n",
    "                                                        param_name='min_samples_leaf', \n",
    "                                                        param_range=param_range,\n",
    "                                                        scoring='accuracy',cv=10, n_jobs=-1)\n",
    "plt.plot(param_range, np.median(train_score, 1), color='blue', label='training score')\n",
    "plt.plot(param_range, np.median(val_score, 1), color='red', label='validation score')\n",
    "plt.legend(loc='best')\n",
    "plt.ylim(0, 1)\n",
    "plt.xlabel('Min_samples_leaf')\n",
    "plt.ylabel('score')\n",
    "plt.show()"
   ]
  },
  {
   "cell_type": "markdown",
   "metadata": {},
   "source": [
    "#### Random Search"
   ]
  },
  {
   "cell_type": "code",
   "execution_count": 23,
   "metadata": {},
   "outputs": [
    {
     "name": "stdout",
     "output_type": "stream",
     "text": [
      "{'n_estimators': [2, 20], 'max_features': ['auto', 'sqrt'], 'max_depth': [0, None], 'min_samples_split': [30, 40, 50], 'min_samples_leaf': [30, 40, 50], 'bootstrap': [True, False]}\n"
     ]
    }
   ],
   "source": [
    "# Number of trees in random forest\n",
    "n_estimators = [int(x) for x in np.linspace(start = 2, stop = 20, num = 2)]\n",
    "# Number of features to consider at every split\n",
    "max_features = ['auto', 'sqrt']\n",
    "# Maximum number of levels in tree\n",
    "max_depth = [int(x) for x in np.linspace(0, 25, num = 1)]\n",
    "max_depth.append(None)\n",
    "# Minimum number of samples required to split a node\n",
    "min_samples_split = [30, 40, 50]\n",
    "# Minimum number of samples required at each leaf node\n",
    "min_samples_leaf = [30, 40, 50]\n",
    "# Method of selecting samples for training each tree\n",
    "bootstrap = [True, False]\n",
    "\n",
    "# Create the random grid\n",
    "random_grid = {'n_estimators': n_estimators,\n",
    "               'max_features': max_features,\n",
    "               'max_depth': max_depth,\n",
    "               'min_samples_split': min_samples_split,\n",
    "               'min_samples_leaf': min_samples_leaf,\n",
    "               'bootstrap': bootstrap}\n",
    "\n",
    "print(random_grid)"
   ]
  },
  {
   "cell_type": "code",
   "execution_count": 24,
   "metadata": {},
   "outputs": [
    {
     "name": "stdout",
     "output_type": "stream",
     "text": [
      "Fitting 10 folds for each of 100 candidates, totalling 1000 fits\n"
     ]
    },
    {
     "name": "stderr",
     "output_type": "stream",
     "text": [
      "[Parallel(n_jobs=-1)]: Using backend LokyBackend with 4 concurrent workers.\n",
      "[Parallel(n_jobs=-1)]: Done  44 tasks      | elapsed:    2.5s\n",
      "[Parallel(n_jobs=-1)]: Done 344 tasks      | elapsed:   16.3s\n",
      "[Parallel(n_jobs=-1)]: Done 844 tasks      | elapsed:   43.4s\n",
      "[Parallel(n_jobs=-1)]: Done 1000 out of 1000 | elapsed:   49.3s finished\n"
     ]
    },
    {
     "data": {
      "text/plain": [
       "RandomizedSearchCV(cv=10, estimator=RandomForestClassifier(), n_iter=100,\n",
       "                   n_jobs=-1,\n",
       "                   param_distributions={'bootstrap': [True, False],\n",
       "                                        'max_depth': [0, None],\n",
       "                                        'max_features': ['auto', 'sqrt'],\n",
       "                                        'min_samples_leaf': [30, 40, 50],\n",
       "                                        'min_samples_split': [30, 40, 50],\n",
       "                                        'n_estimators': [2, 20]},\n",
       "                   random_state=42, verbose=1)"
      ]
     },
     "execution_count": 24,
     "metadata": {},
     "output_type": "execute_result"
    }
   ],
   "source": [
    "rf_random = RandomizedSearchCV(RandomForestClassifier(), random_grid, n_iter = 100, cv = 10, verbose=1, \n",
    "                               random_state=42, n_jobs = -1)\n",
    "rf_random.fit(X_train,y_train)"
   ]
  },
  {
   "cell_type": "code",
   "execution_count": 19,
   "metadata": {},
   "outputs": [
    {
     "ename": "NameError",
     "evalue": "name 'rf_random' is not defined",
     "output_type": "error",
     "traceback": [
      "\u001b[0;31m---------------------------------------------------------------------------\u001b[0m",
      "\u001b[0;31mNameError\u001b[0m                                 Traceback (most recent call last)",
      "\u001b[0;32m<ipython-input-19-ea266b0743c6>\u001b[0m in \u001b[0;36m<module>\u001b[0;34m\u001b[0m\n\u001b[0;32m----> 1\u001b[0;31m \u001b[0mrf_random\u001b[0m\u001b[0;34m.\u001b[0m\u001b[0mbest_params_\u001b[0m\u001b[0;34m\u001b[0m\u001b[0;34m\u001b[0m\u001b[0m\n\u001b[0m",
      "\u001b[0;31mNameError\u001b[0m: name 'rf_random' is not defined"
     ]
    }
   ],
   "source": [
    "rf_random.best_params_"
   ]
  },
  {
   "cell_type": "code",
   "execution_count": 111,
   "metadata": {},
   "outputs": [
    {
     "data": {
      "text/plain": [
       "RandomForestClassifier(bootstrap=False, max_features='sqrt',\n",
       "                       min_samples_leaf=30, min_samples_split=30,\n",
       "                       n_estimators=20)"
      ]
     },
     "execution_count": 111,
     "metadata": {},
     "output_type": "execute_result"
    }
   ],
   "source": [
    "random_model = RandomForestClassifier(n_estimators=20,min_samples_split=30,\n",
    "                                             min_samples_leaf=30,max_features='sqrt',\n",
    "                                             max_depth=None,bootstrap=False)\n",
    "random_model.fit(X_train, y_train)"
   ]
  },
  {
   "cell_type": "code",
   "execution_count": 36,
   "metadata": {},
   "outputs": [
    {
     "name": "stdout",
     "output_type": "stream",
     "text": [
      "Evaluating the random model on the training set yields an accuracy of 85.85313174946005%\n",
      "Evaluating the random model on the testing set yields an accuracy of 81.52%\n"
     ]
    }
   ],
   "source": [
    "random_accuracy = random_model.score(X_train, y_train)\n",
    "print(\"Evaluating the random model on the training set yields an accuracy of {}%\".format(random_accuracy*100))\n",
    "random_accuracy = random_model.score(X_test, y_test)\n",
    "print(\"Evaluating the random model on the testing set yields an accuracy of {:.2f}%\".format(random_accuracy*100))"
   ]
  },
  {
   "cell_type": "markdown",
   "metadata": {},
   "source": [
    "#### Grid Search"
   ]
  },
  {
   "cell_type": "code",
   "execution_count": 29,
   "metadata": {},
   "outputs": [
    {
     "name": "stdout",
     "output_type": "stream",
     "text": [
      "Fitting 10 folds for each of 45 candidates, totalling 450 fits\n"
     ]
    },
    {
     "name": "stderr",
     "output_type": "stream",
     "text": [
      "[Parallel(n_jobs=-1)]: Using backend LokyBackend with 4 concurrent workers.\n",
      "[Parallel(n_jobs=-1)]: Done  33 tasks      | elapsed:    7.0s\n",
      "[Parallel(n_jobs=-1)]: Done 154 tasks      | elapsed:   38.7s\n",
      "[Parallel(n_jobs=-1)]: Done 357 tasks      | elapsed:  1.5min\n",
      "[Parallel(n_jobs=-1)]: Done 450 out of 450 | elapsed:  1.9min finished\n"
     ]
    },
    {
     "data": {
      "text/plain": [
       "GridSearchCV(cv=10, estimator=RandomForestClassifier(), n_jobs=-1,\n",
       "             param_grid={'bootstrap': [False], 'max_depth': [None],\n",
       "                         'max_features': ['sqrt'],\n",
       "                         'min_samples_leaf': [25, 30, 35],\n",
       "                         'min_samples_split': [25, 30, 35],\n",
       "                         'n_estimators': [16, 18, 20, 22, 24]},\n",
       "             verbose=2)"
      ]
     },
     "execution_count": 29,
     "metadata": {},
     "output_type": "execute_result"
    }
   ],
   "source": [
    "param_grid = {\n",
    "    'bootstrap': [False],\n",
    "    'max_depth': [None],\n",
    "    'max_features': ['sqrt'],\n",
    "    'min_samples_leaf': [25, 30, 35],\n",
    "    'min_samples_split': [25, 30, 35],\n",
    "    'n_estimators': [16, 18, 20, 22, 24]\n",
    "}\n",
    "\n",
    "grid_search = GridSearchCV(RandomForestClassifier(), param_grid = param_grid, cv = 10, \n",
    "                           n_jobs = -1, verbose = 2)\n",
    "grid_search.fit(X_train, y_train)"
   ]
  },
  {
   "cell_type": "code",
   "execution_count": 30,
   "metadata": {},
   "outputs": [
    {
     "data": {
      "text/plain": [
       "{'bootstrap': False,\n",
       " 'max_depth': None,\n",
       " 'max_features': 'sqrt',\n",
       " 'min_samples_leaf': 25,\n",
       " 'min_samples_split': 35,\n",
       " 'n_estimators': 22}"
      ]
     },
     "execution_count": 30,
     "metadata": {},
     "output_type": "execute_result"
    }
   ],
   "source": [
    "grid_search.best_params_"
   ]
  },
  {
   "cell_type": "code",
   "execution_count": 112,
   "metadata": {},
   "outputs": [
    {
     "data": {
      "text/plain": [
       "RandomForestClassifier(bootstrap=False, max_features='sqrt',\n",
       "                       min_samples_leaf=25, min_samples_split=35,\n",
       "                       n_estimators=22)"
      ]
     },
     "execution_count": 112,
     "metadata": {},
     "output_type": "execute_result"
    }
   ],
   "source": [
    "grid_model = RandomForestClassifier(n_estimators=22,min_samples_split=35,\n",
    "                                             min_samples_leaf=25,max_features='sqrt',\n",
    "                                             max_depth=None,bootstrap=False)\n",
    "grid_model.fit(X_train,y_train)"
   ]
  },
  {
   "cell_type": "code",
   "execution_count": 113,
   "metadata": {},
   "outputs": [
    {
     "name": "stdout",
     "output_type": "stream",
     "text": [
      "Evaluating the grid model on the training set yields an accuracy of 85.27801179443976%\n",
      "Evaluating the grid model on the testing set yields an accuracy of 80.54%\n"
     ]
    }
   ],
   "source": [
    "grid_accuracy = grid_model.score(X_train, y_train)\n",
    "print(\"Evaluating the grid model on the training set yields an accuracy of {}%\".format(grid_accuracy*100))\n",
    "grid_accuracy = grid_model.score(X_test, y_test)\n",
    "print(\"Evaluating the grid model on the testing set yields an accuracy of {:.2f}%\".format(grid_accuracy*100))"
   ]
  },
  {
   "cell_type": "markdown",
   "metadata": {},
   "source": [
    "### Make prediction & evaluation "
   ]
  },
  {
   "cell_type": "code",
   "execution_count": 114,
   "metadata": {},
   "outputs": [
    {
     "name": "stdout",
     "output_type": "stream",
     "text": [
      "[1 0 1 ... 0 0 1]\n"
     ]
    }
   ],
   "source": [
    "# Make prediction\n",
    "y_pred = grid_model.predict(X_test)\n",
    "print(y_pred)"
   ]
  },
  {
   "cell_type": "code",
   "execution_count": 115,
   "metadata": {},
   "outputs": [
    {
     "name": "stdout",
     "output_type": "stream",
     "text": [
      "MSE: -0.19 (+/- 0.02)\n"
     ]
    }
   ],
   "source": [
    "kf = KFold(n_splits=10)\n",
    "cv_scores = cross_val_score(grid_model, X_train, y_train, cv=kf, scoring='neg_mean_squared_error')\n",
    "print(\"MSE: %0.2f (+/- %0.2f)\" % (cv_scores.mean(), cv_scores.std()))\n",
    "# the actual MSE is the number we get hear but positive"
   ]
  },
  {
   "cell_type": "code",
   "execution_count": 116,
   "metadata": {},
   "outputs": [
    {
     "data": {
      "text/html": [
       "<div>\n",
       "<style scoped>\n",
       "    .dataframe tbody tr th:only-of-type {\n",
       "        vertical-align: middle;\n",
       "    }\n",
       "\n",
       "    .dataframe tbody tr th {\n",
       "        vertical-align: top;\n",
       "    }\n",
       "\n",
       "    .dataframe thead th {\n",
       "        text-align: right;\n",
       "    }\n",
       "</style>\n",
       "<table border=\"1\" class=\"dataframe\">\n",
       "  <thead>\n",
       "    <tr style=\"text-align: right;\">\n",
       "      <th>Predicted</th>\n",
       "      <th>0</th>\n",
       "      <th>1</th>\n",
       "      <th>All</th>\n",
       "    </tr>\n",
       "    <tr>\n",
       "      <th>Actual</th>\n",
       "      <th></th>\n",
       "      <th></th>\n",
       "      <th></th>\n",
       "    </tr>\n",
       "  </thead>\n",
       "  <tbody>\n",
       "    <tr>\n",
       "      <th>0</th>\n",
       "      <td>462</td>\n",
       "      <td>139</td>\n",
       "      <td>601</td>\n",
       "    </tr>\n",
       "    <tr>\n",
       "      <th>1</th>\n",
       "      <td>92</td>\n",
       "      <td>494</td>\n",
       "      <td>586</td>\n",
       "    </tr>\n",
       "    <tr>\n",
       "      <th>All</th>\n",
       "      <td>554</td>\n",
       "      <td>633</td>\n",
       "      <td>1187</td>\n",
       "    </tr>\n",
       "  </tbody>\n",
       "</table>\n",
       "</div>"
      ],
      "text/plain": [
       "Predicted    0    1   All\n",
       "Actual                   \n",
       "0          462  139   601\n",
       "1           92  494   586\n",
       "All        554  633  1187"
      ]
     },
     "execution_count": 116,
     "metadata": {},
     "output_type": "execute_result"
    }
   ],
   "source": [
    "confusion_matrix(y_test,y_pred)\n",
    "pd.crosstab(y_test, y_pred, rownames = ['Actual'], colnames =['Predicted'], margins = True)"
   ]
  },
  {
   "cell_type": "markdown",
   "metadata": {},
   "source": [
    "if there is a trade off between false positives and false negatives: do we rather have our model predicting not shearing whilst the coil shears or the other way around"
   ]
  },
  {
   "cell_type": "code",
   "execution_count": 117,
   "metadata": {},
   "outputs": [
    {
     "name": "stdout",
     "output_type": "stream",
     "text": [
      "              precision    recall  f1-score   support\n",
      "\n",
      "           0       0.83      0.77      0.80       601\n",
      "           1       0.78      0.84      0.81       586\n",
      "\n",
      "    accuracy                           0.81      1187\n",
      "   macro avg       0.81      0.81      0.81      1187\n",
      "weighted avg       0.81      0.81      0.81      1187\n",
      "\n"
     ]
    }
   ],
   "source": [
    "print(classification_report(y_test, y_pred))"
   ]
  },
  {
   "cell_type": "code",
   "execution_count": 118,
   "metadata": {},
   "outputs": [
    {
     "name": "stdout",
     "output_type": "stream",
     "text": [
      "0.8744030143162987\n",
      "Best Threshold for Grid model=0.528480, G-Mean=0.807\n"
     ]
    }
   ],
   "source": [
    "# ROC curves\n",
    "y_scores = grid_model.predict_proba(X_test)[:,1]\n",
    "fpr, tpr, thresholds = roc_curve(y_test, y_scores)\n",
    "roc_auc = auc(fpr, tpr)\n",
    "auc = roc_auc_score(y_test, y_scores)\n",
    "print(auc)\n",
    "\n",
    "# get the best threshold\n",
    "gmeans = np.sqrt(tpr * (1-fpr))\n",
    "ix = np.argmax(gmeans)\n",
    "print('Best Threshold for Grid model=%f, G-Mean=%.3f' % (thresholds[ix], \n",
    "                                                         gmeans[ix]))"
   ]
  },
  {
   "cell_type": "code",
   "execution_count": 119,
   "metadata": {},
   "outputs": [
    {
     "data": {
      "image/png": "[encoded data removed]",
      "text/plain": [
       "<Figure size 720x576 with 1 Axes>"
      ]
     },
     "metadata": {
      "needs_background": "light"
     },
     "output_type": "display_data"
    }
   ],
   "source": [
    "plt.figure(figsize = (10,8))\n",
    "plt.title('ROC curve random model Random Forest')\n",
    "plt.plot(fpr, tpr, 'b', label = 'AUC = %0.2f' % roc_auc)\n",
    "plt.plot([0, 1], [0, 1], 'r--')\n",
    "plt.xlim([0, 1])\n",
    "plt.ylim([0, 1])\n",
    "plt.scatter(fpr[ix], tpr[ix], marker='o', color='black', label='Best')\n",
    "plt.legend(loc = 'lower right')\n",
    "plt.ylabel('True Positive Rate')\n",
    "plt.xlabel('False Positive Rate')\n",
    "plt.show()"
   ]
  },
  {
   "cell_type": "code",
   "execution_count": 120,
   "metadata": {},
   "outputs": [
    {
     "name": "stdout",
     "output_type": "stream",
     "text": [
      "0.6130325842861094\n"
     ]
    }
   ],
   "source": [
    "matthews_corr = matthews_corrcoef(y_test,y_pred)\n",
    "print(matthews_corr)"
   ]
  },
  {
   "cell_type": "markdown",
   "metadata": {},
   "source": [
    "### Learning curve"
   ]
  },
  {
   "cell_type": "code",
   "execution_count": 76,
   "metadata": {},
   "outputs": [],
   "source": [
    "train_sizes = [1000, 2000, 2500, 3000, 3500, 4000] # absolute numbers that must be within (0,21707)\n",
    "\n",
    "train_sizes, train_scores, validation_scores = learning_curve(grid_model, X_train, y_train, \n",
    "                                                              train_sizes = train_sizes,\n",
    "                                                              cv = 10, \n",
    "                                                              scoring = 'accuracy')"
   ]
  },
  {
   "cell_type": "code",
   "execution_count": 77,
   "metadata": {},
   "outputs": [
    {
     "name": "stdout",
     "output_type": "stream",
     "text": [
      "[0.8373     0.8413     0.84256    0.8435     0.84962857 0.849025  ]\n",
      "[0.76684388 0.79358916 0.79801466 0.80327826 0.80580813 0.81086076]\n"
     ]
    }
   ],
   "source": [
    "train_scores_mean = train_scores.mean(axis = 1)\n",
    "print(train_scores_mean)\n",
    "validation_scores_mean = validation_scores.mean(axis = 1)\n",
    "print(validation_scores_mean)"
   ]
  },
  {
   "cell_type": "code",
   "execution_count": 79,
   "metadata": {},
   "outputs": [
    {
     "data": {
      "image/png": "[encoded data removed]",
      "text/plain": [
       "<Figure size 432x288 with 1 Axes>"
      ]
     },
     "metadata": {
      "needs_background": "light"
     },
     "output_type": "display_data"
    }
   ],
   "source": [
    "plt.plot(train_sizes, train_scores_mean, label = 'Training Accuracy')\n",
    "plt.plot(train_sizes, validation_scores_mean, label = 'Validation Accuracy')\n",
    "plt.ylabel('Score')\n",
    "plt.xlabel('Training examples')\n",
    "plt.title('Learning curve for our Grid Search model')\n",
    "plt.ylim(0.5,1)\n",
    "plt.legend(loc='best')\n",
    "plt.show()\n",
    "# This model needs more data as we see that orange and blue line are converging closer\n",
    "# accuracy is slightly increasing"
   ]
  },
  {
   "cell_type": "markdown",
   "metadata": {},
   "source": [
    "### Feature importance"
   ]
  },
  {
   "cell_type": "code",
   "execution_count": 121,
   "metadata": {},
   "outputs": [
    {
     "name": "stdout",
     "output_type": "stream",
     "text": [
      "Feature ranking:\n",
      "1. feature 6 (0.258530)\n",
      "2. feature 10 (0.107809)\n",
      "3. feature 7 (0.090251)\n",
      "4. feature 3 (0.088512)\n",
      "5. feature 8 (0.080427)\n",
      "6. feature 9 (0.050725)\n",
      "7. feature 2 (0.039769)\n",
      "8. feature 1 (0.037858)\n",
      "9. feature 0 (0.035867)\n",
      "10. feature 5 (0.035185)\n",
      "11. feature 18 (0.029862)\n",
      "12. feature 17 (0.025876)\n",
      "13. feature 16 (0.021134)\n",
      "14. feature 11 (0.015917)\n",
      "15. feature 20 (0.014122)\n",
      "16. feature 13 (0.013667)\n",
      "17. feature 12 (0.012065)\n",
      "18. feature 4 (0.011387)\n",
      "19. feature 19 (0.010857)\n",
      "20. feature 14 (0.010129)\n",
      "21. feature 15 (0.010052)\n"
     ]
    },
    {
     "data": {
      "image/png": "[encoded data removed]",
      "text/plain": [
       "<Figure size 432x288 with 1 Axes>"
      ]
     },
     "metadata": {
      "needs_background": "light"
     },
     "output_type": "display_data"
    }
   ],
   "source": [
    "importances = grid_model.feature_importances_\n",
    "std = np.std([tree.feature_importances_ for tree in grid_model.estimators_],\n",
    "             axis=0)\n",
    "indices = np.argsort(importances)[::-1]\n",
    "\n",
    "# Print the feature ranking\n",
    "print(\"Feature ranking:\")\n",
    "\n",
    "for f in range(X.shape[1]):\n",
    "    print(\"%d. feature %d (%f)\" % (f + 1, indices[f], importances[indices[f]]))\n",
    "\n",
    "# Plot the impurity-based feature importances of the forest\n",
    "plt.figure()\n",
    "plt.title(\"Feature importances\")\n",
    "plt.bar(range(X.shape[1]), importances[indices],\n",
    "        color=\"r\", yerr=std[indices], align=\"center\")\n",
    "plt.xticks(range(X.shape[1]), indices)\n",
    "plt.xlim([-1, X.shape[1]])\n",
    "plt.show()"
   ]
  },
  {
   "cell_type": "code",
   "execution_count": 122,
   "metadata": {},
   "outputs": [
    {
     "data": {
      "text/plain": [
       "{'f1': 'analyse',\n",
       " 'f2': 'Hardness_1',\n",
       " 'f3': 'Hardness_2',\n",
       " 'f4': 'Width',\n",
       " 'f5': 'Temperature before finishing mill',\n",
       " 'f6': 'Temperature after finishing mill',\n",
       " 'f7': 'Thickness',\n",
       " 'f8': 'c',\n",
       " 'f9': 'mn',\n",
       " 'f10': 'si',\n",
       " 'f11': 'nb',\n",
       " 'f12': 'p',\n",
       " 'f13': 's',\n",
       " 'f14': 'al',\n",
       " 'f15': 'ma',\n",
       " 'f16': 'b',\n",
       " 'f17': 'n',\n",
       " 'f18': 'ti',\n",
       " 'f19': 'cr',\n",
       " 'f20': 'va',\n",
       " 'f21': 'mo',\n",
       " 'f22': 'Target Label'}"
      ]
     },
     "execution_count": 122,
     "metadata": {},
     "output_type": "execute_result"
    }
   ],
   "source": [
    "d = {f'f{i}': c for i, c in enumerate(dataframe.columns, 1)}\n",
    "d"
   ]
  },
  {
   "cell_type": "markdown",
   "metadata": {},
   "source": [
    "Top 5 features with most explanatory power: Temperature after finishing mill, hardness_2, Thikness, si, hardness_1, c"
   ]
  },
  {
   "cell_type": "markdown",
   "metadata": {},
   "source": [
    "Top 5 features with least explanantory power: b,va,nb,width, al"
   ]
  },
  {
   "cell_type": "markdown",
   "metadata": {},
   "source": [
    "Drop all features that don't add at least 1% to the accuracy of our model"
   ]
  },
  {
   "cell_type": "markdown",
   "metadata": {},
   "source": [
    "### Features that significantly impact wheather or not a coil shears"
   ]
  },
  {
   "cell_type": "code",
   "execution_count": 157,
   "metadata": {},
   "outputs": [],
   "source": [
    "new_frame = dataframe[['Temperature after finishing mill', #\n",
    "                       'Hardness_2', # \n",
    "                       'Thickness', #\n",
    "                       'si', # \n",
    "                       'Hardness_1',#\n",
    "                       'nb',#\n",
    "                       'Width',#\n",
    "                       'c',#\n",
    "                       'mn',#\n",
    "                       'analyse',#\n",
    "                       'Hardness_1',#\n",
    "                       'ti',#\n",
    "                       'cr',#\n",
    "                       'p',#\n",
    "                       'n',#\n",
    "                       'Temperature before finishing mill',#\n",
    "                       'Target Label']]"
   ]
  },
  {
   "cell_type": "code",
   "execution_count": 158,
   "metadata": {},
   "outputs": [
    {
     "data": {
      "text/html": [
       "<div>\n",
       "<style scoped>\n",
       "    .dataframe tbody tr th:only-of-type {\n",
       "        vertical-align: middle;\n",
       "    }\n",
       "\n",
       "    .dataframe tbody tr th {\n",
       "        vertical-align: top;\n",
       "    }\n",
       "\n",
       "    .dataframe thead th {\n",
       "        text-align: right;\n",
       "    }\n",
       "</style>\n",
       "<table border=\"1\" class=\"dataframe\">\n",
       "  <thead>\n",
       "    <tr style=\"text-align: right;\">\n",
       "      <th></th>\n",
       "      <th>Temperature after finishing mill</th>\n",
       "      <th>Hardness_2</th>\n",
       "      <th>Thickness</th>\n",
       "      <th>si</th>\n",
       "      <th>Hardness_1</th>\n",
       "      <th>nb</th>\n",
       "      <th>Width</th>\n",
       "      <th>c</th>\n",
       "      <th>mn</th>\n",
       "      <th>analyse</th>\n",
       "      <th>Hardness_1</th>\n",
       "      <th>ti</th>\n",
       "      <th>cr</th>\n",
       "      <th>p</th>\n",
       "      <th>n</th>\n",
       "      <th>Temperature before finishing mill</th>\n",
       "      <th>Target Label</th>\n",
       "    </tr>\n",
       "    <tr>\n",
       "      <th>coil</th>\n",
       "      <th></th>\n",
       "      <th></th>\n",
       "      <th></th>\n",
       "      <th></th>\n",
       "      <th></th>\n",
       "      <th></th>\n",
       "      <th></th>\n",
       "      <th></th>\n",
       "      <th></th>\n",
       "      <th></th>\n",
       "      <th></th>\n",
       "      <th></th>\n",
       "      <th></th>\n",
       "      <th></th>\n",
       "      <th></th>\n",
       "      <th></th>\n",
       "      <th></th>\n",
       "    </tr>\n",
       "  </thead>\n",
       "  <tbody>\n",
       "    <tr>\n",
       "      <th>404131</th>\n",
       "      <td>913.0</td>\n",
       "      <td>164.0</td>\n",
       "      <td>2.05</td>\n",
       "      <td>15070</td>\n",
       "      <td>17039.0</td>\n",
       "      <td>22</td>\n",
       "      <td>1326.1</td>\n",
       "      <td>2037</td>\n",
       "      <td>21830</td>\n",
       "      <td>101</td>\n",
       "      <td>17039.0</td>\n",
       "      <td>78</td>\n",
       "      <td>2066</td>\n",
       "      <td>104</td>\n",
       "      <td>48</td>\n",
       "      <td>1171.0</td>\n",
       "      <td>0</td>\n",
       "    </tr>\n",
       "    <tr>\n",
       "      <th>511381</th>\n",
       "      <td>896.0</td>\n",
       "      <td>100.0</td>\n",
       "      <td>1.68</td>\n",
       "      <td>68</td>\n",
       "      <td>9957.0</td>\n",
       "      <td>0</td>\n",
       "      <td>1101.5</td>\n",
       "      <td>504</td>\n",
       "      <td>1924</td>\n",
       "      <td>16</td>\n",
       "      <td>9957.0</td>\n",
       "      <td>7</td>\n",
       "      <td>206</td>\n",
       "      <td>87</td>\n",
       "      <td>18</td>\n",
       "      <td>1211.0</td>\n",
       "      <td>0</td>\n",
       "    </tr>\n",
       "    <tr>\n",
       "      <th>532359</th>\n",
       "      <td>901.0</td>\n",
       "      <td>98.0</td>\n",
       "      <td>5.98</td>\n",
       "      <td>35</td>\n",
       "      <td>9811.0</td>\n",
       "      <td>0</td>\n",
       "      <td>1293.5</td>\n",
       "      <td>289</td>\n",
       "      <td>2051</td>\n",
       "      <td>16</td>\n",
       "      <td>9811.0</td>\n",
       "      <td>5</td>\n",
       "      <td>282</td>\n",
       "      <td>98</td>\n",
       "      <td>36</td>\n",
       "      <td>1169.0</td>\n",
       "      <td>0</td>\n",
       "    </tr>\n",
       "    <tr>\n",
       "      <th>440921</th>\n",
       "      <td>866.0</td>\n",
       "      <td>105.0</td>\n",
       "      <td>1.47</td>\n",
       "      <td>135</td>\n",
       "      <td>10490.0</td>\n",
       "      <td>0</td>\n",
       "      <td>1211.2</td>\n",
       "      <td>777</td>\n",
       "      <td>3547</td>\n",
       "      <td>26</td>\n",
       "      <td>10490.0</td>\n",
       "      <td>10</td>\n",
       "      <td>255</td>\n",
       "      <td>164</td>\n",
       "      <td>42</td>\n",
       "      <td>1188.0</td>\n",
       "      <td>0</td>\n",
       "    </tr>\n",
       "    <tr>\n",
       "      <th>431592</th>\n",
       "      <td>898.0</td>\n",
       "      <td>98.0</td>\n",
       "      <td>1.65</td>\n",
       "      <td>71</td>\n",
       "      <td>9831.0</td>\n",
       "      <td>2</td>\n",
       "      <td>1100.2</td>\n",
       "      <td>412</td>\n",
       "      <td>1691</td>\n",
       "      <td>16</td>\n",
       "      <td>9831.0</td>\n",
       "      <td>5</td>\n",
       "      <td>157</td>\n",
       "      <td>90</td>\n",
       "      <td>58</td>\n",
       "      <td>1183.0</td>\n",
       "      <td>0</td>\n",
       "    </tr>\n",
       "  </tbody>\n",
       "</table>\n",
       "</div>"
      ],
      "text/plain": [
       "        Temperature after finishing mill  Hardness_2  Thickness     si  \\\n",
       "coil                                                                     \n",
       "404131                             913.0       164.0       2.05  15070   \n",
       "511381                             896.0       100.0       1.68     68   \n",
       "532359                             901.0        98.0       5.98     35   \n",
       "440921                             866.0       105.0       1.47    135   \n",
       "431592                             898.0        98.0       1.65     71   \n",
       "\n",
       "        Hardness_1  nb   Width     c     mn  analyse  Hardness_1  ti    cr  \\\n",
       "coil                                                                         \n",
       "404131     17039.0  22  1326.1  2037  21830      101     17039.0  78  2066   \n",
       "511381      9957.0   0  1101.5   504   1924       16      9957.0   7   206   \n",
       "532359      9811.0   0  1293.5   289   2051       16      9811.0   5   282   \n",
       "440921     10490.0   0  1211.2   777   3547       26     10490.0  10   255   \n",
       "431592      9831.0   2  1100.2   412   1691       16      9831.0   5   157   \n",
       "\n",
       "          p   n  Temperature before finishing mill  Target Label  \n",
       "coil                                                              \n",
       "404131  104  48                             1171.0             0  \n",
       "511381   87  18                             1211.0             0  \n",
       "532359   98  36                             1169.0             0  \n",
       "440921  164  42                             1188.0             0  \n",
       "431592   90  58                             1183.0             0  "
      ]
     },
     "execution_count": 158,
     "metadata": {},
     "output_type": "execute_result"
    }
   ],
   "source": [
    "new_frame.head(5)"
   ]
  },
  {
   "cell_type": "code",
   "execution_count": 159,
   "metadata": {},
   "outputs": [],
   "source": [
    "X = new_frame.drop(columns = ['Target Label'])\n",
    "y = new_frame['Target Label']"
   ]
  },
  {
   "cell_type": "code",
   "execution_count": 160,
   "metadata": {},
   "outputs": [
    {
     "name": "stdout",
     "output_type": "stream",
     "text": [
      "Observations: 5935 5935\n",
      "Train Dataset: (4748, 16) (4748,)\n",
      "Test Dataset: (1187, 16) (1187,)\n"
     ]
    }
   ],
   "source": [
    "X_train, X_test, y_train, y_test = train_test_split(X, y, test_size=0.2, random_state=42)\n",
    "print('Observations: %d' % (len(X)), len(y))\n",
    "print('Train Dataset:', X_train.shape, y_train.shape)\n",
    "print('Test Dataset:', X_test.shape, y_test.shape)"
   ]
  },
  {
   "cell_type": "code",
   "execution_count": 155,
   "metadata": {},
   "outputs": [
    {
     "data": {
      "text/plain": [
       "RandomForestClassifier(bootstrap=False, max_features='sqrt',\n",
       "                       min_samples_leaf=25, min_samples_split=35,\n",
       "                       n_estimators=22)"
      ]
     },
     "execution_count": 155,
     "metadata": {},
     "output_type": "execute_result"
    }
   ],
   "source": [
    "grid_model = RandomForestClassifier(n_estimators=22,min_samples_split=35,\n",
    "                                             min_samples_leaf=25,max_features='sqrt',\n",
    "                                             max_depth=None,bootstrap=False)\n",
    "grid_model.fit(X_train,y_train)"
   ]
  },
  {
   "cell_type": "code",
   "execution_count": 156,
   "metadata": {},
   "outputs": [
    {
     "name": "stdout",
     "output_type": "stream",
     "text": [
      "Evaluating the grid model on the training set yields an accuracy of 84.66722830665543%\n",
      "Evaluating the grid model on the testing set yields an accuracy of 80.29%\n"
     ]
    }
   ],
   "source": [
    "grid_accuracy = grid_model.score(X_train, y_train)\n",
    "print(\"Evaluating the grid model on the training set yields an accuracy of {}%\".format(grid_accuracy*100))\n",
    "grid_accuracy = grid_model.score(X_test, y_test)\n",
    "print(\"Evaluating the grid model on the testing set yields an accuracy of {:.2f}%\".format(grid_accuracy*100))"
   ]
  },
  {
   "cell_type": "code",
   "execution_count": 150,
   "metadata": {},
   "outputs": [
    {
     "name": "stdout",
     "output_type": "stream",
     "text": [
      "[1 0 1 ... 0 0 1]\n"
     ]
    }
   ],
   "source": [
    "# Make prediction\n",
    "y_pred = grid_model.predict(X_test)\n",
    "print(y_pred)"
   ]
  },
  {
   "cell_type": "code",
   "execution_count": 129,
   "metadata": {},
   "outputs": [
    {
     "data": {
      "text/html": [
       "<div>\n",
       "<style scoped>\n",
       "    .dataframe tbody tr th:only-of-type {\n",
       "        vertical-align: middle;\n",
       "    }\n",
       "\n",
       "    .dataframe tbody tr th {\n",
       "        vertical-align: top;\n",
       "    }\n",
       "\n",
       "    .dataframe thead th {\n",
       "        text-align: right;\n",
       "    }\n",
       "</style>\n",
       "<table border=\"1\" class=\"dataframe\">\n",
       "  <thead>\n",
       "    <tr style=\"text-align: right;\">\n",
       "      <th>Predicted</th>\n",
       "      <th>0</th>\n",
       "      <th>1</th>\n",
       "      <th>All</th>\n",
       "    </tr>\n",
       "    <tr>\n",
       "      <th>Actual</th>\n",
       "      <th></th>\n",
       "      <th></th>\n",
       "      <th></th>\n",
       "    </tr>\n",
       "  </thead>\n",
       "  <tbody>\n",
       "    <tr>\n",
       "      <th>0</th>\n",
       "      <td>445</td>\n",
       "      <td>156</td>\n",
       "      <td>601</td>\n",
       "    </tr>\n",
       "    <tr>\n",
       "      <th>1</th>\n",
       "      <td>112</td>\n",
       "      <td>474</td>\n",
       "      <td>586</td>\n",
       "    </tr>\n",
       "    <tr>\n",
       "      <th>All</th>\n",
       "      <td>557</td>\n",
       "      <td>630</td>\n",
       "      <td>1187</td>\n",
       "    </tr>\n",
       "  </tbody>\n",
       "</table>\n",
       "</div>"
      ],
      "text/plain": [
       "Predicted    0    1   All\n",
       "Actual                   \n",
       "0          445  156   601\n",
       "1          112  474   586\n",
       "All        557  630  1187"
      ]
     },
     "execution_count": 129,
     "metadata": {},
     "output_type": "execute_result"
    }
   ],
   "source": [
    "confusion_matrix(y_test,y_pred)\n",
    "pd.crosstab(y_test, y_pred, rownames = ['Actual'], colnames =['Predicted'], margins = True)"
   ]
  },
  {
   "cell_type": "code",
   "execution_count": 130,
   "metadata": {},
   "outputs": [
    {
     "name": "stdout",
     "output_type": "stream",
     "text": [
      "              precision    recall  f1-score   support\n",
      "\n",
      "           0       0.80      0.74      0.77       601\n",
      "           1       0.75      0.81      0.78       586\n",
      "\n",
      "    accuracy                           0.77      1187\n",
      "   macro avg       0.78      0.77      0.77      1187\n",
      "weighted avg       0.78      0.77      0.77      1187\n",
      "\n"
     ]
    }
   ],
   "source": [
    "print(classification_report(y_test, y_pred))"
   ]
  },
  {
   "cell_type": "code",
   "execution_count": 134,
   "metadata": {},
   "outputs": [
    {
     "name": "stdout",
     "output_type": "stream",
     "text": [
      "Variable: Thickness            Importance: 0.26\n",
      "Variable: nb                   Importance: 0.11\n",
      "Variable: Width                Importance: 0.09\n",
      "Variable: c                    Importance: 0.09\n",
      "Variable: mn                   Importance: 0.08\n",
      "Variable: si                   Importance: 0.05\n",
      "Variable: analyse              Importance: 0.04\n",
      "Variable: Hardness_1           Importance: 0.04\n",
      "Variable: Hardness_2           Importance: 0.04\n",
      "Variable: Temperature after finishing mill Importance: 0.04\n",
      "Variable: ti                   Importance: 0.03\n",
      "Variable: cr                   Importance: 0.03\n",
      "Variable: p                    Importance: 0.02\n",
      "Variable: n                    Importance: 0.02\n",
      "Variable: Temperature before finishing mill Importance: 0.01\n",
      "Variable: s                    Importance: 0.01\n",
      "Variable: al                   Importance: 0.01\n",
      "Variable: ma                   Importance: 0.01\n",
      "Variable: b                    Importance: 0.01\n",
      "Variable: va                   Importance: 0.01\n",
      "Variable: mo                   Importance: 0.01\n"
     ]
    },
    {
     "data": {
      "text/plain": [
       "[None,\n",
       " None,\n",
       " None,\n",
       " None,\n",
       " None,\n",
       " None,\n",
       " None,\n",
       " None,\n",
       " None,\n",
       " None,\n",
       " None,\n",
       " None,\n",
       " None,\n",
       " None,\n",
       " None,\n",
       " None,\n",
       " None,\n",
       " None,\n",
       " None,\n",
       " None,\n",
       " None]"
      ]
     },
     "execution_count": 134,
     "metadata": {},
     "output_type": "execute_result"
    }
   ],
   "source": [
    "feature_list = list(X)\n",
    "# Get numerical feature importances\n",
    "importances = list(grid_model.feature_importances_)\n",
    "# List of tuples with variable and importance\n",
    "feature_importances = [(feature, round(importance, 2)) for feature, importance in zip(feature_list, importances)]\n",
    "# Sort the feature importances by most important first\n",
    "feature_importances = sorted(feature_importances, key = lambda x: x[1], reverse = True)\n",
    "# Print out the feature and importances \n",
    "[print('Variable: {:20} Importance: {}'.format(*pair)) for pair in feature_importances]"
   ]
  },
  {
   "cell_type": "code",
   "execution_count": 135,
   "metadata": {},
   "outputs": [
    {
     "data": {
      "image/png": "[encoded data removed]",
      "text/plain": [
       "<Figure size 432x288 with 1 Axes>"
      ]
     },
     "metadata": {
      "needs_background": "light"
     },
     "output_type": "display_data"
    }
   ],
   "source": [
    "# list of x locations for plotting\n",
    "x_values = list(range(len(importances)))\n",
    "# Make a bar chart\n",
    "plt.bar(x_values, importances, orientation = 'vertical', color = 'r', edgecolor = 'k', linewidth = 1.2)\n",
    "# Tick labels for x axis\n",
    "plt.xticks(x_values, feature_list, rotation='vertical')\n",
    "# Axis labels and title\n",
    "plt.ylabel('Importance'); plt.xlabel('Variable'); plt.title('Variable Importances');"
   ]
  },
  {
   "cell_type": "code",
   "execution_count": 136,
   "metadata": {},
   "outputs": [
    {
     "data": {
      "image/png": "[encoded data removed]",
      "text/plain": [
       "<Figure size 432x288 with 1 Axes>"
      ]
     },
     "metadata": {
      "needs_background": "light"
     },
     "output_type": "display_data"
    }
   ],
   "source": [
    "# List of features sorted from most to least important\n",
    "sorted_importances = [importance[1] for importance in feature_importances]\n",
    "sorted_features = [importance[0] for importance in feature_importances]\n",
    "# Cumulative importances\n",
    "cumulative_importances = np.cumsum(sorted_importances)\n",
    "# Make a line graph\n",
    "plt.plot(x_values, cumulative_importances, 'g-')\n",
    "# Draw line at 95% of importance retained\n",
    "plt.hlines(y = 0.95, xmin=0, xmax=len(sorted_importances), color = 'r', linestyles = 'dashed')\n",
    "# Format x ticks and labels\n",
    "plt.xticks(x_values, sorted_features, rotation = 'vertical')\n",
    "# Axis labels and title\n",
    "plt.xlabel('Variable'); plt.ylabel('Cumulative Importance'); plt.title('Cumulative Importances');"
   ]
  },
  {
   "cell_type": "code",
   "execution_count": 137,
   "metadata": {},
   "outputs": [
    {
     "name": "stdout",
     "output_type": "stream",
     "text": [
      "Number of features for 95% importance: 15\n"
     ]
    }
   ],
   "source": [
    "# Find number of features for cumulative importance of 95%\n",
    "# Add 1 because Python is zero-indexed\n",
    "print('Number of features for 95% importance:', np.where(cumulative_importances > 0.95)[0][0] + 1)"
   ]
  },
  {
   "cell_type": "markdown",
   "metadata": {},
   "source": [
    "We can reduce dimensionality : 23 features to 15 features"
   ]
  },
  {
   "cell_type": "markdown",
   "metadata": {},
   "source": [
    "### Test with balanced dataset (60/40 ratio)"
   ]
  },
  {
   "cell_type": "code",
   "execution_count": 80,
   "metadata": {},
   "outputs": [],
   "source": [
    "balanced = pd.read_csv('DF6040ratio.csv')"
   ]
  },
  {
   "cell_type": "code",
   "execution_count": 81,
   "metadata": {},
   "outputs": [
    {
     "data": {
      "text/html": [
       "<div>\n",
       "<style scoped>\n",
       "    .dataframe tbody tr th:only-of-type {\n",
       "        vertical-align: middle;\n",
       "    }\n",
       "\n",
       "    .dataframe tbody tr th {\n",
       "        vertical-align: top;\n",
       "    }\n",
       "\n",
       "    .dataframe thead th {\n",
       "        text-align: right;\n",
       "    }\n",
       "</style>\n",
       "<table border=\"1\" class=\"dataframe\">\n",
       "  <thead>\n",
       "    <tr style=\"text-align: right;\">\n",
       "      <th></th>\n",
       "      <th>analyse</th>\n",
       "      <th>Hardness_1</th>\n",
       "      <th>Hardness_2</th>\n",
       "      <th>Width</th>\n",
       "      <th>Temperature before finishing mill</th>\n",
       "      <th>Temperature after finishing mill</th>\n",
       "      <th>Thickness</th>\n",
       "      <th>c</th>\n",
       "      <th>mn</th>\n",
       "      <th>si</th>\n",
       "      <th>...</th>\n",
       "      <th>s</th>\n",
       "      <th>al</th>\n",
       "      <th>ma</th>\n",
       "      <th>b</th>\n",
       "      <th>n</th>\n",
       "      <th>ti</th>\n",
       "      <th>cr</th>\n",
       "      <th>va</th>\n",
       "      <th>mo</th>\n",
       "      <th>Target Label</th>\n",
       "    </tr>\n",
       "    <tr>\n",
       "      <th>coil</th>\n",
       "      <th></th>\n",
       "      <th></th>\n",
       "      <th></th>\n",
       "      <th></th>\n",
       "      <th></th>\n",
       "      <th></th>\n",
       "      <th></th>\n",
       "      <th></th>\n",
       "      <th></th>\n",
       "      <th></th>\n",
       "      <th></th>\n",
       "      <th></th>\n",
       "      <th></th>\n",
       "      <th></th>\n",
       "      <th></th>\n",
       "      <th></th>\n",
       "      <th></th>\n",
       "      <th></th>\n",
       "      <th></th>\n",
       "      <th></th>\n",
       "      <th></th>\n",
       "    </tr>\n",
       "  </thead>\n",
       "  <tbody>\n",
       "    <tr>\n",
       "      <th>404131</th>\n",
       "      <td>L971</td>\n",
       "      <td>17039.0</td>\n",
       "      <td>164.0</td>\n",
       "      <td>1326.1</td>\n",
       "      <td>1171.0</td>\n",
       "      <td>913.0</td>\n",
       "      <td>2.05</td>\n",
       "      <td>2037</td>\n",
       "      <td>21830</td>\n",
       "      <td>15070</td>\n",
       "      <td>...</td>\n",
       "      <td>11</td>\n",
       "      <td>381</td>\n",
       "      <td>370</td>\n",
       "      <td>6</td>\n",
       "      <td>48</td>\n",
       "      <td>78</td>\n",
       "      <td>2066</td>\n",
       "      <td>28</td>\n",
       "      <td>27</td>\n",
       "      <td>0</td>\n",
       "    </tr>\n",
       "    <tr>\n",
       "      <th>511381</th>\n",
       "      <td>K371</td>\n",
       "      <td>9957.0</td>\n",
       "      <td>100.0</td>\n",
       "      <td>1101.5</td>\n",
       "      <td>1211.0</td>\n",
       "      <td>896.0</td>\n",
       "      <td>1.68</td>\n",
       "      <td>504</td>\n",
       "      <td>1924</td>\n",
       "      <td>68</td>\n",
       "      <td>...</td>\n",
       "      <td>84</td>\n",
       "      <td>378</td>\n",
       "      <td>365</td>\n",
       "      <td>1</td>\n",
       "      <td>18</td>\n",
       "      <td>7</td>\n",
       "      <td>206</td>\n",
       "      <td>4</td>\n",
       "      <td>10</td>\n",
       "      <td>0</td>\n",
       "    </tr>\n",
       "    <tr>\n",
       "      <th>532359</th>\n",
       "      <td>K371</td>\n",
       "      <td>9811.0</td>\n",
       "      <td>98.0</td>\n",
       "      <td>1293.5</td>\n",
       "      <td>1169.0</td>\n",
       "      <td>901.0</td>\n",
       "      <td>5.98</td>\n",
       "      <td>289</td>\n",
       "      <td>2051</td>\n",
       "      <td>35</td>\n",
       "      <td>...</td>\n",
       "      <td>167</td>\n",
       "      <td>257</td>\n",
       "      <td>248</td>\n",
       "      <td>1</td>\n",
       "      <td>36</td>\n",
       "      <td>5</td>\n",
       "      <td>282</td>\n",
       "      <td>0</td>\n",
       "      <td>37</td>\n",
       "      <td>0</td>\n",
       "    </tr>\n",
       "    <tr>\n",
       "      <th>440921</th>\n",
       "      <td>K821</td>\n",
       "      <td>10490.0</td>\n",
       "      <td>105.0</td>\n",
       "      <td>1211.2</td>\n",
       "      <td>1188.0</td>\n",
       "      <td>866.0</td>\n",
       "      <td>1.47</td>\n",
       "      <td>777</td>\n",
       "      <td>3547</td>\n",
       "      <td>135</td>\n",
       "      <td>...</td>\n",
       "      <td>123</td>\n",
       "      <td>324</td>\n",
       "      <td>312</td>\n",
       "      <td>1</td>\n",
       "      <td>42</td>\n",
       "      <td>10</td>\n",
       "      <td>255</td>\n",
       "      <td>1</td>\n",
       "      <td>20</td>\n",
       "      <td>0</td>\n",
       "    </tr>\n",
       "    <tr>\n",
       "      <th>431592</th>\n",
       "      <td>K371</td>\n",
       "      <td>9831.0</td>\n",
       "      <td>98.0</td>\n",
       "      <td>1100.2</td>\n",
       "      <td>1183.0</td>\n",
       "      <td>898.0</td>\n",
       "      <td>1.65</td>\n",
       "      <td>412</td>\n",
       "      <td>1691</td>\n",
       "      <td>71</td>\n",
       "      <td>...</td>\n",
       "      <td>71</td>\n",
       "      <td>310</td>\n",
       "      <td>310</td>\n",
       "      <td>0</td>\n",
       "      <td>58</td>\n",
       "      <td>5</td>\n",
       "      <td>157</td>\n",
       "      <td>1</td>\n",
       "      <td>2</td>\n",
       "      <td>0</td>\n",
       "    </tr>\n",
       "  </tbody>\n",
       "</table>\n",
       "<p>5 rows × 22 columns</p>\n",
       "</div>"
      ],
      "text/plain": [
       "       analyse  Hardness_1  Hardness_2   Width  \\\n",
       "coil                                             \n",
       "404131   L971      17039.0       164.0  1326.1   \n",
       "511381   K371       9957.0       100.0  1101.5   \n",
       "532359   K371       9811.0        98.0  1293.5   \n",
       "440921   K821      10490.0       105.0  1211.2   \n",
       "431592   K371       9831.0        98.0  1100.2   \n",
       "\n",
       "        Temperature before finishing mill  Temperature after finishing mill  \\\n",
       "coil                                                                          \n",
       "404131                             1171.0                             913.0   \n",
       "511381                             1211.0                             896.0   \n",
       "532359                             1169.0                             901.0   \n",
       "440921                             1188.0                             866.0   \n",
       "431592                             1183.0                             898.0   \n",
       "\n",
       "        Thickness     c     mn     si  ...    s   al   ma  b   n  ti    cr  \\\n",
       "coil                                   ...                                   \n",
       "404131       2.05  2037  21830  15070  ...   11  381  370  6  48  78  2066   \n",
       "511381       1.68   504   1924     68  ...   84  378  365  1  18   7   206   \n",
       "532359       5.98   289   2051     35  ...  167  257  248  1  36   5   282   \n",
       "440921       1.47   777   3547    135  ...  123  324  312  1  42  10   255   \n",
       "431592       1.65   412   1691     71  ...   71  310  310  0  58   5   157   \n",
       "\n",
       "        va  mo  Target Label  \n",
       "coil                          \n",
       "404131  28  27             0  \n",
       "511381   4  10             0  \n",
       "532359   0  37             0  \n",
       "440921   1  20             0  \n",
       "431592   1   2             0  \n",
       "\n",
       "[5 rows x 22 columns]"
      ]
     },
     "execution_count": 81,
     "metadata": {},
     "output_type": "execute_result"
    }
   ],
   "source": [
    "balanced = balanced.set_index('coil')\n",
    "balanced.head(5)"
   ]
  },
  {
   "cell_type": "code",
   "execution_count": 82,
   "metadata": {},
   "outputs": [],
   "source": [
    "encoder = LabelEncoder()\n",
    "balanced['analyse'] = encoder.fit_transform(balanced.analyse.values)"
   ]
  },
  {
   "cell_type": "code",
   "execution_count": 83,
   "metadata": {},
   "outputs": [
    {
     "data": {
      "text/plain": [
       "array([110,  17,  28, 115, 128, 123,   8,  75,  91,  99,  54, 135, 150,\n",
       "       147,  10, 130,  41, 104,  57,   3, 149,  92, 117, 116,  68, 124,\n",
       "        23,  26,   4,  96,  89,  82,  50,  61, 144,  93,  77,  47,  83,\n",
       "        84,  18,  15, 113,  31,  44, 136, 100,  33, 140, 143,  37,  65,\n",
       "       139,  79, 145,  21,  76, 118, 108,   0, 119,  59, 137,   6,  12,\n",
       "        56,   7,  22, 156, 105, 107, 154,   9,   5,  63, 129,  78, 101,\n",
       "        90, 132,  64,  66, 152,  46,   2,  39,  95,  32, 148,  51,  53,\n",
       "        94, 151,  45,  34, 142,  62,  88,  38,  14,  86, 103,  73,  11,\n",
       "       146,  52,  36, 121,  24,  69,  85, 155,  97, 125, 153, 111,  13,\n",
       "       141, 109,  58,  74,  48,  70,  87, 120,  67,  72,  80,  20,  43,\n",
       "        55, 106,  30,  19, 114,  60, 112,  35, 157,  81,   1, 138, 127,\n",
       "       134,  49,  16,  27,  40,  71, 126, 158,  42, 102,  29,  25,  98,\n",
       "       131, 133, 122])"
      ]
     },
     "execution_count": 83,
     "metadata": {},
     "output_type": "execute_result"
    }
   ],
   "source": [
    "balanced.analyse.unique()"
   ]
  },
  {
   "cell_type": "code",
   "execution_count": 84,
   "metadata": {},
   "outputs": [],
   "source": [
    "X = new_frame.drop(columns = ['Target Label'])\n",
    "y = new_frame['Target Label']"
   ]
  },
  {
   "cell_type": "code",
   "execution_count": 85,
   "metadata": {},
   "outputs": [
    {
     "name": "stdout",
     "output_type": "stream",
     "text": [
      "Observations: 5935 5935\n",
      "Train Dataset: (4748, 4) (4748,)\n",
      "Test Dataset: (1187, 4) (1187,)\n"
     ]
    }
   ],
   "source": [
    "X_train, X_test, y_train, y_test = train_test_split(X, y, test_size=0.2, random_state=42)\n",
    "print('Observations: %d' % (len(X)), len(y))\n",
    "print('Train Dataset:', X_train.shape, y_train.shape)\n",
    "print('Test Dataset:', X_test.shape, y_test.shape)"
   ]
  },
  {
   "cell_type": "code",
   "execution_count": 86,
   "metadata": {},
   "outputs": [
    {
     "data": {
      "text/plain": [
       "RandomForestClassifier(bootstrap=False, max_features='sqrt',\n",
       "                       min_samples_leaf=25, min_samples_split=35,\n",
       "                       n_estimators=22)"
      ]
     },
     "execution_count": 86,
     "metadata": {},
     "output_type": "execute_result"
    }
   ],
   "source": [
    "grid_model = RandomForestClassifier(n_estimators=22,min_samples_split=35,\n",
    "                                             min_samples_leaf=25,max_features='sqrt',\n",
    "                                             max_depth=None,bootstrap=False)\n",
    "grid_model.fit(X_train,y_train)"
   ]
  },
  {
   "cell_type": "code",
   "execution_count": 87,
   "metadata": {},
   "outputs": [
    {
     "name": "stdout",
     "output_type": "stream",
     "text": [
      "Evaluating the grid model on the training set yields an accuracy of 81.59224936815501%\n",
      "Evaluating the grid model on the testing set yields an accuracy of 77.93%\n"
     ]
    }
   ],
   "source": [
    "grid_accuracy = grid_model.score(X_train, y_train)\n",
    "print(\"Evaluating the grid model on the training set yields an accuracy of {}%\".format(grid_accuracy*100))\n",
    "grid_accuracy = grid_model.score(X_test, y_test)\n",
    "print(\"Evaluating the grid model on the testing set yields an accuracy of {:.2f}%\".format(grid_accuracy*100))"
   ]
  },
  {
   "cell_type": "code",
   "execution_count": 88,
   "metadata": {},
   "outputs": [
    {
     "name": "stdout",
     "output_type": "stream",
     "text": [
      "[1 0 1 ... 0 0 1]\n"
     ]
    }
   ],
   "source": [
    "# Make prediction\n",
    "y_pred = grid_model.predict(X_test)\n",
    "print(y_pred)"
   ]
  },
  {
   "cell_type": "code",
   "execution_count": 89,
   "metadata": {},
   "outputs": [
    {
     "data": {
      "text/html": [
       "<div>\n",
       "<style scoped>\n",
       "    .dataframe tbody tr th:only-of-type {\n",
       "        vertical-align: middle;\n",
       "    }\n",
       "\n",
       "    .dataframe tbody tr th {\n",
       "        vertical-align: top;\n",
       "    }\n",
       "\n",
       "    .dataframe thead th {\n",
       "        text-align: right;\n",
       "    }\n",
       "</style>\n",
       "<table border=\"1\" class=\"dataframe\">\n",
       "  <thead>\n",
       "    <tr style=\"text-align: right;\">\n",
       "      <th>Predicted</th>\n",
       "      <th>0</th>\n",
       "      <th>1</th>\n",
       "      <th>All</th>\n",
       "    </tr>\n",
       "    <tr>\n",
       "      <th>Actual</th>\n",
       "      <th></th>\n",
       "      <th></th>\n",
       "      <th></th>\n",
       "    </tr>\n",
       "  </thead>\n",
       "  <tbody>\n",
       "    <tr>\n",
       "      <th>0</th>\n",
       "      <td>452</td>\n",
       "      <td>149</td>\n",
       "      <td>601</td>\n",
       "    </tr>\n",
       "    <tr>\n",
       "      <th>1</th>\n",
       "      <td>113</td>\n",
       "      <td>473</td>\n",
       "      <td>586</td>\n",
       "    </tr>\n",
       "    <tr>\n",
       "      <th>All</th>\n",
       "      <td>565</td>\n",
       "      <td>622</td>\n",
       "      <td>1187</td>\n",
       "    </tr>\n",
       "  </tbody>\n",
       "</table>\n",
       "</div>"
      ],
      "text/plain": [
       "Predicted    0    1   All\n",
       "Actual                   \n",
       "0          452  149   601\n",
       "1          113  473   586\n",
       "All        565  622  1187"
      ]
     },
     "execution_count": 89,
     "metadata": {},
     "output_type": "execute_result"
    }
   ],
   "source": [
    "confusion_matrix(y_test,y_pred)\n",
    "pd.crosstab(y_test, y_pred, rownames = ['Actual'], colnames =['Predicted'], margins = True)"
   ]
  },
  {
   "cell_type": "code",
   "execution_count": 90,
   "metadata": {},
   "outputs": [
    {
     "name": "stdout",
     "output_type": "stream",
     "text": [
      "              precision    recall  f1-score   support\n",
      "\n",
      "           0       0.80      0.75      0.78       601\n",
      "           1       0.76      0.81      0.78       586\n",
      "\n",
      "    accuracy                           0.78      1187\n",
      "   macro avg       0.78      0.78      0.78      1187\n",
      "weighted avg       0.78      0.78      0.78      1187\n",
      "\n"
     ]
    }
   ],
   "source": [
    "print(classification_report(y_test, y_pred))"
   ]
  },
  {
   "cell_type": "code",
   "execution_count": 91,
   "metadata": {},
   "outputs": [
    {
     "name": "stdout",
     "output_type": "stream",
     "text": [
      "0.5598483084210276\n"
     ]
    }
   ],
   "source": [
    "matthews_corr = matthews_corrcoef(y_test,y_pred)\n",
    "print(matthews_corr)"
   ]
  },
  {
   "cell_type": "markdown",
   "metadata": {},
   "source": [
    "### Test with imbalanced dataset (90/10 ratio)"
   ]
  },
  {
   "cell_type": "code",
   "execution_count": 53,
   "metadata": {},
   "outputs": [
    {
     "data": {
      "text/html": [
       "<div>\n",
       "<style scoped>\n",
       "    .dataframe tbody tr th:only-of-type {\n",
       "        vertical-align: middle;\n",
       "    }\n",
       "\n",
       "    .dataframe tbody tr th {\n",
       "        vertical-align: top;\n",
       "    }\n",
       "\n",
       "    .dataframe thead th {\n",
       "        text-align: right;\n",
       "    }\n",
       "</style>\n",
       "<table border=\"1\" class=\"dataframe\">\n",
       "  <thead>\n",
       "    <tr style=\"text-align: right;\">\n",
       "      <th></th>\n",
       "      <th>coil</th>\n",
       "      <th>furnace Number</th>\n",
       "      <th>analyse</th>\n",
       "      <th>Hardness_1</th>\n",
       "      <th>Hardness_2</th>\n",
       "      <th>Width</th>\n",
       "      <th>Temperature before finishing mill</th>\n",
       "      <th>Temperature after finishing mill</th>\n",
       "      <th>Thickness</th>\n",
       "      <th>c</th>\n",
       "      <th>...</th>\n",
       "      <th>s</th>\n",
       "      <th>al</th>\n",
       "      <th>ma</th>\n",
       "      <th>b</th>\n",
       "      <th>n</th>\n",
       "      <th>ti</th>\n",
       "      <th>cr</th>\n",
       "      <th>va</th>\n",
       "      <th>mo</th>\n",
       "      <th>Target Label</th>\n",
       "    </tr>\n",
       "  </thead>\n",
       "  <tbody>\n",
       "    <tr>\n",
       "      <th>0</th>\n",
       "      <td>432092</td>\n",
       "      <td>4.0</td>\n",
       "      <td>LK51</td>\n",
       "      <td>12897.0</td>\n",
       "      <td>135.0</td>\n",
       "      <td>806.8</td>\n",
       "      <td>1178.0</td>\n",
       "      <td>873.0</td>\n",
       "      <td>3.02</td>\n",
       "      <td>756</td>\n",
       "      <td>...</td>\n",
       "      <td>31</td>\n",
       "      <td>343</td>\n",
       "      <td>334</td>\n",
       "      <td>3</td>\n",
       "      <td>40</td>\n",
       "      <td>21</td>\n",
       "      <td>387</td>\n",
       "      <td>0</td>\n",
       "      <td>38</td>\n",
       "      <td>0</td>\n",
       "    </tr>\n",
       "    <tr>\n",
       "      <th>1</th>\n",
       "      <td>480675</td>\n",
       "      <td>1.0</td>\n",
       "      <td>L761</td>\n",
       "      <td>12216.0</td>\n",
       "      <td>104.0</td>\n",
       "      <td>1603.8</td>\n",
       "      <td>1166.0</td>\n",
       "      <td>944.0</td>\n",
       "      <td>4.30</td>\n",
       "      <td>635</td>\n",
       "      <td>...</td>\n",
       "      <td>113</td>\n",
       "      <td>516</td>\n",
       "      <td>499</td>\n",
       "      <td>2</td>\n",
       "      <td>52</td>\n",
       "      <td>15</td>\n",
       "      <td>288</td>\n",
       "      <td>19</td>\n",
       "      <td>30</td>\n",
       "      <td>0</td>\n",
       "    </tr>\n",
       "    <tr>\n",
       "      <th>2</th>\n",
       "      <td>454915</td>\n",
       "      <td>1.0</td>\n",
       "      <td>K371</td>\n",
       "      <td>10515.0</td>\n",
       "      <td>107.0</td>\n",
       "      <td>1420.4</td>\n",
       "      <td>1180.0</td>\n",
       "      <td>924.0</td>\n",
       "      <td>3.92</td>\n",
       "      <td>426</td>\n",
       "      <td>...</td>\n",
       "      <td>98</td>\n",
       "      <td>413</td>\n",
       "      <td>397</td>\n",
       "      <td>1</td>\n",
       "      <td>34</td>\n",
       "      <td>16</td>\n",
       "      <td>237</td>\n",
       "      <td>40</td>\n",
       "      <td>19</td>\n",
       "      <td>0</td>\n",
       "    </tr>\n",
       "    <tr>\n",
       "      <th>3</th>\n",
       "      <td>483280</td>\n",
       "      <td>3.0</td>\n",
       "      <td>KM51</td>\n",
       "      <td>11622.0</td>\n",
       "      <td>121.0</td>\n",
       "      <td>1611.8</td>\n",
       "      <td>1172.0</td>\n",
       "      <td>867.0</td>\n",
       "      <td>5.02</td>\n",
       "      <td>702</td>\n",
       "      <td>...</td>\n",
       "      <td>65</td>\n",
       "      <td>400</td>\n",
       "      <td>380</td>\n",
       "      <td>1</td>\n",
       "      <td>32</td>\n",
       "      <td>11</td>\n",
       "      <td>239</td>\n",
       "      <td>0</td>\n",
       "      <td>31</td>\n",
       "      <td>0</td>\n",
       "    </tr>\n",
       "    <tr>\n",
       "      <th>4</th>\n",
       "      <td>510514</td>\n",
       "      <td>3.0</td>\n",
       "      <td>K321</td>\n",
       "      <td>10034.0</td>\n",
       "      <td>100.0</td>\n",
       "      <td>1360.8</td>\n",
       "      <td>1164.0</td>\n",
       "      <td>921.0</td>\n",
       "      <td>3.03</td>\n",
       "      <td>417</td>\n",
       "      <td>...</td>\n",
       "      <td>129</td>\n",
       "      <td>407</td>\n",
       "      <td>407</td>\n",
       "      <td>0</td>\n",
       "      <td>43</td>\n",
       "      <td>4</td>\n",
       "      <td>364</td>\n",
       "      <td>4</td>\n",
       "      <td>23</td>\n",
       "      <td>0</td>\n",
       "    </tr>\n",
       "  </tbody>\n",
       "</table>\n",
       "<p>5 rows × 24 columns</p>\n",
       "</div>"
      ],
      "text/plain": [
       "     coil  furnace Number analyse  Hardness_1  Hardness_2   Width  \\\n",
       "0  432092             4.0   LK51      12897.0       135.0   806.8   \n",
       "1  480675             1.0   L761      12216.0       104.0  1603.8   \n",
       "2  454915             1.0   K371      10515.0       107.0  1420.4   \n",
       "3  483280             3.0   KM51      11622.0       121.0  1611.8   \n",
       "4  510514             3.0   K321      10034.0       100.0  1360.8   \n",
       "\n",
       "   Temperature before finishing mill  Temperature after finishing mill  \\\n",
       "0                             1178.0                             873.0   \n",
       "1                             1166.0                             944.0   \n",
       "2                             1180.0                             924.0   \n",
       "3                             1172.0                             867.0   \n",
       "4                             1164.0                             921.0   \n",
       "\n",
       "   Thickness    c  ...    s   al   ma  b   n  ti   cr  va  mo  Target Label  \n",
       "0       3.02  756  ...   31  343  334  3  40  21  387   0  38             0  \n",
       "1       4.30  635  ...  113  516  499  2  52  15  288  19  30             0  \n",
       "2       3.92  426  ...   98  413  397  1  34  16  237  40  19             0  \n",
       "3       5.02  702  ...   65  400  380  1  32  11  239   0  31             0  \n",
       "4       3.03  417  ...  129  407  407  0  43   4  364   4  23             0  \n",
       "\n",
       "[5 rows x 24 columns]"
      ]
     },
     "execution_count": 53,
     "metadata": {},
     "output_type": "execute_result"
    }
   ],
   "source": [
    "data = pd.read_csv('ImbalancedFrameForML.csv')\n",
    "data.head(5)"
   ]
  },
  {
   "cell_type": "code",
   "execution_count": 62,
   "metadata": {},
   "outputs": [
    {
     "data": {
      "text/plain": [
       "coil                                 0\n",
       "furnace Number                       0\n",
       "analyse                              0\n",
       "Hardness_1                           1\n",
       "Hardness_2                           1\n",
       "Width                                0\n",
       "Temperature before finishing mill    0\n",
       "Temperature after finishing mill     0\n",
       "Thickness                            0\n",
       "c                                    0\n",
       "mn                                   0\n",
       "si                                   0\n",
       "nb                                   0\n",
       "p                                    0\n",
       "s                                    0\n",
       "al                                   0\n",
       "ma                                   0\n",
       "b                                    0\n",
       "n                                    0\n",
       "ti                                   0\n",
       "cr                                   0\n",
       "va                                   0\n",
       "mo                                   0\n",
       "Target Label                         0\n",
       "dtype: int64"
      ]
     },
     "execution_count": 62,
     "metadata": {},
     "output_type": "execute_result"
    }
   ],
   "source": [
    "data.isnull().sum()"
   ]
  },
  {
   "cell_type": "code",
   "execution_count": 63,
   "metadata": {},
   "outputs": [],
   "source": [
    "data.dropna(inplace=True)"
   ]
  },
  {
   "cell_type": "code",
   "execution_count": 64,
   "metadata": {},
   "outputs": [
    {
     "data": {
      "text/plain": [
       "20037"
      ]
     },
     "execution_count": 64,
     "metadata": {},
     "output_type": "execute_result"
    }
   ],
   "source": [
    "len(data)"
   ]
  },
  {
   "cell_type": "code",
   "execution_count": 65,
   "metadata": {},
   "outputs": [
    {
     "data": {
      "text/plain": [
       "array([147, 132,  20,  63,  13,   5, 189, 124,  69, 152, 140,  78, 202,\n",
       "       177, 108, 188,  28,  10, 119, 201,  49, 101, 115, 193, 184,   9,\n",
       "        35,  26,  71, 191, 120, 164, 127, 143,  39, 139,  81, 149,   4,\n",
       "       145,  53, 118, 183,  15,  87,  96,  18, 200,  72,   1, 133, 186,\n",
       "       178,  75,  93,  12,  88,  30,  22, 116, 165, 156,  60,   8, 204,\n",
       "       138,  76,  52, 158,  33,  29,  50,  74, 170,  48,  98, 172,  27,\n",
       "       198, 162, 100, 195,  86, 182,  83, 146,   7,  21,   6,  11, 194,\n",
       "        16,  23,  59, 196, 134, 112, 114,  41,  14,  17, 113,  42,  91,\n",
       "       176, 130, 173, 135, 181,  97, 131,  67,   3,  64,  36,  19, 142,\n",
       "       157,  44,  82,  37, 111, 122,  25,  61,  31, 166, 125, 121, 128,\n",
       "        47,  43,  54, 153, 180, 197, 129,  85, 160, 105,  46, 110,  84,\n",
       "        38, 174,  56,  66, 199, 155,  80, 117, 167,   2,  34, 161, 203,\n",
       "       192, 154,  65, 168, 136,  99,  89, 179, 102,  70,  77, 141,  40,\n",
       "       104,  45, 163, 103, 151, 148,  73,  55,  24,  68, 106, 187, 159,\n",
       "        58,  62, 107, 169,  90,  57,  51, 175, 190,  92, 123,  94, 171,\n",
       "       109,  79, 185,  32,  95, 144, 150, 126, 137])"
      ]
     },
     "execution_count": 65,
     "metadata": {},
     "output_type": "execute_result"
    }
   ],
   "source": [
    "data.analyse.unique()"
   ]
  },
  {
   "cell_type": "code",
   "execution_count": 66,
   "metadata": {},
   "outputs": [],
   "source": [
    "encoder = LabelEncoder()\n",
    "data['analyse'] = encoder.fit_transform(data.analyse.values)"
   ]
  },
  {
   "cell_type": "code",
   "execution_count": 67,
   "metadata": {},
   "outputs": [
    {
     "data": {
      "text/plain": [
       "array([146, 131,  19,  62,  12,   4, 188, 123,  68, 151, 139,  77, 201,\n",
       "       176, 107, 187,  27,   9, 118, 200,  48, 100, 114, 192, 183,   8,\n",
       "        34,  25,  70, 190, 119, 163, 126, 142,  38, 138,  80, 148,   3,\n",
       "       144,  52, 117, 182,  14,  86,  95,  17, 199,  71,   0, 132, 185,\n",
       "       177,  74,  92,  11,  87,  29,  21, 115, 164, 155,  59,   7, 203,\n",
       "       137,  75,  51, 157,  32,  28,  49,  73, 169,  47,  97, 171,  26,\n",
       "       197, 161,  99, 194,  85, 181,  82, 145,   6,  20,   5,  10, 193,\n",
       "        15,  22,  58, 195, 133, 111, 113,  40,  13,  16, 112,  41,  90,\n",
       "       175, 129, 172, 134, 180,  96, 130,  66,   2,  63,  35,  18, 141,\n",
       "       156,  43,  81,  36, 110, 121,  24,  60,  30, 165, 124, 120, 127,\n",
       "        46,  42,  53, 152, 179, 196, 128,  84, 159, 104,  45, 109,  83,\n",
       "        37, 173,  55,  65, 198, 154,  79, 116, 166,   1,  33, 160, 202,\n",
       "       191, 153,  64, 167, 135,  98,  88, 178, 101,  69,  76, 140,  39,\n",
       "       103,  44, 162, 102, 150, 147,  72,  54,  23,  67, 105, 186, 158,\n",
       "        57,  61, 106, 168,  89,  56,  50, 174, 189,  91, 122,  93, 170,\n",
       "       108,  78, 184,  31,  94, 143, 149, 125, 136])"
      ]
     },
     "execution_count": 67,
     "metadata": {},
     "output_type": "execute_result"
    }
   ],
   "source": [
    "data.analyse.unique()"
   ]
  },
  {
   "cell_type": "code",
   "execution_count": 68,
   "metadata": {},
   "outputs": [],
   "source": [
    "X = data.drop(columns = ['Target Label'])\n",
    "y = data['Target Label']"
   ]
  },
  {
   "cell_type": "code",
   "execution_count": 69,
   "metadata": {},
   "outputs": [
    {
     "name": "stdout",
     "output_type": "stream",
     "text": [
      "Observations: 20037 20037\n",
      "Train Dataset: (16029, 23) (16029,)\n",
      "Test Dataset: (4008, 23) (4008,)\n"
     ]
    }
   ],
   "source": [
    "X_train, X_test, y_train, y_test = train_test_split(X, y, test_size=0.2, random_state=42)\n",
    "print('Observations: %d' % (len(X)), len(y))\n",
    "print('Train Dataset:', X_train.shape, y_train.shape)\n",
    "print('Test Dataset:', X_test.shape, y_test.shape)"
   ]
  },
  {
   "cell_type": "code",
   "execution_count": 70,
   "metadata": {},
   "outputs": [
    {
     "name": "stdout",
     "output_type": "stream",
     "text": [
      "trained Logistic Regression in 0.61 s\n",
      "trained Nearest Neighbors in 0.14 s\n",
      "trained Support Vector Machine in 6.31 s\n",
      "[11:39:07] WARNING: /Users/travis/build/dmlc/xgboost/src/learner.cc:1061: Starting in XGBoost 1.3.0, the default evaluation metric used with the objective 'binary:logistic' was changed from 'error' to 'logloss'. Explicitly set eval_metric if you'd like to restore the old behavior.\n",
      "trained Gradient Boosting Classifier in 10.71 s\n",
      "trained Decision Tree in 0.91 s\n",
      "trained Random Forest in 4.13 s\n",
      "trained Neural Net in 52.63 s\n",
      "trained Naive Bayes in 0.03 s\n",
      "                    Classifiers  Train_score  Training_time\n",
      "7                   Naive Bayes     0.785826       0.031744\n",
      "0           Logistic Regression     0.859380       0.606315\n",
      "2        Support Vector Machine     0.890823       6.306036\n",
      "6                    Neural Net     0.911099      52.626202\n",
      "1             Nearest Neighbors     0.915029       0.141726\n",
      "3  Gradient Boosting Classifier     0.977291      10.705804\n",
      "4                 Decision Tree     1.000000       0.907534\n",
      "5                 Random Forest     1.000000       4.125309\n"
     ]
    }
   ],
   "source": [
    "df_results = batch_classify(X_train, y_train)\n",
    "print(df_results.sort_values(by='Train_score', ascending=True))"
   ]
  },
  {
   "cell_type": "code",
   "execution_count": 72,
   "metadata": {},
   "outputs": [
    {
     "data": {
      "image/png": "[encoded data removed]",
      "text/plain": [
       "<Figure size 432x288 with 1 Axes>"
      ]
     },
     "metadata": {
      "needs_background": "light"
     },
     "output_type": "display_data"
    }
   ],
   "source": [
    "param_range = np.arange(1, 200)\n",
    "\n",
    "train_score, val_score = validation_curve(RandomForestClassifier(), X_train, y_train,\n",
    "                                                        param_name='n_estimators', \n",
    "                                                        param_range=param_range,\n",
    "                                                        scoring='accuracy',cv=3, n_jobs=-1)\n",
    "plt.plot(param_range, np.median(train_score, 1), color='blue', label='training score')\n",
    "plt.plot(param_range, np.median(val_score, 1), color='red', label='validation score')\n",
    "plt.legend(loc='best')\n",
    "plt.ylim(0, 1)\n",
    "plt.xlabel('n_estimators')\n",
    "plt.ylabel('score')\n",
    "plt.show()"
   ]
  },
  {
   "cell_type": "code",
   "execution_count": 73,
   "metadata": {},
   "outputs": [
    {
     "data": {
      "image/png": "[encoded data removed]",
      "text/plain": [
       "<Figure size 432x288 with 1 Axes>"
      ]
     },
     "metadata": {
      "needs_background": "light"
     },
     "output_type": "display_data"
    }
   ],
   "source": [
    "param_range = np.arange(1, 200)\n",
    "\n",
    "train_score, val_score = validation_curve(RandomForestClassifier(), X_train, y_train,\n",
    "                                                        param_name='max_depth', \n",
    "                                                        param_range=param_range,\n",
    "                                                        scoring='accuracy',cv=3, n_jobs=-1)\n",
    "plt.plot(param_range, np.median(train_score, 1), color='blue', label='training score')\n",
    "plt.plot(param_range, np.median(val_score, 1), color='red', label='validation score')\n",
    "plt.legend(loc='best')\n",
    "plt.ylim(0, 1)\n",
    "plt.xlabel('max_depth')\n",
    "plt.ylabel('score')\n",
    "plt.show()"
   ]
  },
  {
   "cell_type": "code",
   "execution_count": 74,
   "metadata": {},
   "outputs": [
    {
     "data": {
      "image/png": "[encoded data removed]",
      "text/plain": [
       "<Figure size 432x288 with 1 Axes>"
      ]
     },
     "metadata": {
      "needs_background": "light"
     },
     "output_type": "display_data"
    }
   ],
   "source": [
    "param_range = np.arange(1, 50)\n",
    "\n",
    "train_score, val_score = validation_curve(RandomForestClassifier(), X_train, y_train,\n",
    "                                                        param_name='min_samples_split', \n",
    "                                                        param_range=param_range,\n",
    "                                                        scoring='accuracy',cv=10, n_jobs=-1)\n",
    "plt.plot(param_range, np.median(train_score, 1), color='blue', label='training score')\n",
    "plt.plot(param_range, np.median(val_score, 1), color='red', label='validation score')\n",
    "plt.legend(loc='best')\n",
    "plt.ylim(0, 1)\n",
    "plt.xlabel('Min_samples_split')\n",
    "plt.ylabel('score')\n",
    "plt.show()"
   ]
  },
  {
   "cell_type": "code",
   "execution_count": 75,
   "metadata": {},
   "outputs": [
    {
     "data": {
      "image/png": "[encoded data removed]",
      "text/plain": [
       "<Figure size 432x288 with 1 Axes>"
      ]
     },
     "metadata": {
      "needs_background": "light"
     },
     "output_type": "display_data"
    }
   ],
   "source": [
    "param_range = np.arange(1, 50)\n",
    "\n",
    "train_score, val_score = validation_curve(RandomForestClassifier(), X_train, y_train,\n",
    "                                                        param_name='min_samples_leaf', \n",
    "                                                        param_range=param_range,\n",
    "                                                        scoring='accuracy',cv=10, n_jobs=-1)\n",
    "plt.plot(param_range, np.median(train_score, 1), color='blue', label='training score')\n",
    "plt.plot(param_range, np.median(val_score, 1), color='red', label='validation score')\n",
    "plt.legend(loc='best')\n",
    "plt.ylim(0, 1)\n",
    "plt.xlabel('Min_samples_leaf')\n",
    "plt.ylabel('score')\n",
    "plt.show()"
   ]
  },
  {
   "cell_type": "code",
   "execution_count": 76,
   "metadata": {},
   "outputs": [
    {
     "name": "stdout",
     "output_type": "stream",
     "text": [
      "{'n_estimators': [2, 26], 'max_features': ['auto', 'sqrt'], 'max_depth': [0, None], 'min_samples_split': [40, 50, 60], 'min_samples_leaf': [30, 35, 40], 'bootstrap': [True, False]}\n"
     ]
    }
   ],
   "source": [
    "# Number of trees in random forest\n",
    "n_estimators = [int(x) for x in np.linspace(start = 2, stop = 26, num = 2)]\n",
    "# Number of features to consider at every split\n",
    "max_features = ['auto', 'sqrt']\n",
    "# Maximum number of levels in tree\n",
    "max_depth = [int(x) for x in np.linspace(0, 25, num = 1)]\n",
    "max_depth.append(None)\n",
    "# Minimum number of samples required to split a node\n",
    "min_samples_split = [40, 50, 60]\n",
    "# Minimum number of samples required at each leaf node\n",
    "min_samples_leaf = [30, 35, 40]\n",
    "# Method of selecting samples for training each tree\n",
    "bootstrap = [True, False]\n",
    "\n",
    "# Create the random grid\n",
    "random_grid = {'n_estimators': n_estimators,\n",
    "               'max_features': max_features,\n",
    "               'max_depth': max_depth,\n",
    "               'min_samples_split': min_samples_split,\n",
    "               'min_samples_leaf': min_samples_leaf,\n",
    "               'bootstrap': bootstrap}\n",
    "\n",
    "print(random_grid)"
   ]
  },
  {
   "cell_type": "code",
   "execution_count": 78,
   "metadata": {},
   "outputs": [
    {
     "name": "stdout",
     "output_type": "stream",
     "text": [
      "Fitting 10 folds for each of 100 candidates, totalling 1000 fits\n"
     ]
    },
    {
     "name": "stderr",
     "output_type": "stream",
     "text": [
      "[Parallel(n_jobs=-1)]: Using backend LokyBackend with 4 concurrent workers.\n",
      "[Parallel(n_jobs=-1)]: Done  42 tasks      | elapsed:   12.9s\n",
      "[Parallel(n_jobs=-1)]: Done 192 tasks      | elapsed:   50.5s\n",
      "[Parallel(n_jobs=-1)]: Done 442 tasks      | elapsed:  1.7min\n",
      "[Parallel(n_jobs=-1)]: Done 808 tasks      | elapsed:  3.1min\n",
      "[Parallel(n_jobs=-1)]: Done 1000 out of 1000 | elapsed:  3.5min finished\n"
     ]
    },
    {
     "data": {
      "text/plain": [
       "RandomizedSearchCV(cv=10, estimator=RandomForestClassifier(), n_iter=100,\n",
       "                   n_jobs=-1,\n",
       "                   param_distributions={'bootstrap': [True, False],\n",
       "                                        'max_depth': [0, None],\n",
       "                                        'max_features': ['auto', 'sqrt'],\n",
       "                                        'min_samples_leaf': [30, 35, 40],\n",
       "                                        'min_samples_split': [40, 50, 60],\n",
       "                                        'n_estimators': [2, 26]},\n",
       "                   random_state=42, verbose=1)"
      ]
     },
     "execution_count": 78,
     "metadata": {},
     "output_type": "execute_result"
    }
   ],
   "source": [
    "rf_random = RandomizedSearchCV(RandomForestClassifier(), random_grid, n_iter = 100, cv = 10, verbose=1, \n",
    "                               random_state=42, n_jobs = -1)\n",
    "rf_random.fit(X_train,y_train)"
   ]
  },
  {
   "cell_type": "code",
   "execution_count": 79,
   "metadata": {},
   "outputs": [
    {
     "data": {
      "text/plain": [
       "{'n_estimators': 26,\n",
       " 'min_samples_split': 60,\n",
       " 'min_samples_leaf': 30,\n",
       " 'max_features': 'auto',\n",
       " 'max_depth': None,\n",
       " 'bootstrap': False}"
      ]
     },
     "execution_count": 79,
     "metadata": {},
     "output_type": "execute_result"
    }
   ],
   "source": [
    "rf_random.best_params_"
   ]
  },
  {
   "cell_type": "code",
   "execution_count": 80,
   "metadata": {},
   "outputs": [
    {
     "data": {
      "text/plain": [
       "RandomForestClassifier(bootstrap=False, min_samples_leaf=30,\n",
       "                       min_samples_split=60, n_estimators=26)"
      ]
     },
     "execution_count": 80,
     "metadata": {},
     "output_type": "execute_result"
    }
   ],
   "source": [
    "random_model = RandomForestClassifier(n_estimators=26,min_samples_split=60,\n",
    "                                             min_samples_leaf=30,max_features='auto',\n",
    "                                             max_depth=None,bootstrap=False)\n",
    "random_model.fit(X_train, y_train)"
   ]
  },
  {
   "cell_type": "code",
   "execution_count": 81,
   "metadata": {},
   "outputs": [
    {
     "name": "stdout",
     "output_type": "stream",
     "text": [
      "Evaluating the random model on the training set yields an accuracy of 91.04747644893631%\n",
      "Evaluating the random model on the testing set yields an accuracy of 88.90%\n"
     ]
    }
   ],
   "source": [
    "random_accuracy = random_model.score(X_train, y_train)\n",
    "print(\"Evaluating the random model on the training set yields an accuracy of {}%\".format(random_accuracy*100))\n",
    "random_accuracy = random_model.score(X_test, y_test)\n",
    "print(\"Evaluating the random model on the testing set yields an accuracy of {:.2f}%\".format(random_accuracy*100))"
   ]
  },
  {
   "cell_type": "code",
   "execution_count": 99,
   "metadata": {},
   "outputs": [
    {
     "name": "stdout",
     "output_type": "stream",
     "text": [
      "Fitting 10 folds for each of 45 candidates, totalling 450 fits\n"
     ]
    },
    {
     "name": "stderr",
     "output_type": "stream",
     "text": [
      "[Parallel(n_jobs=-1)]: Using backend LokyBackend with 4 concurrent workers.\n",
      "[Parallel(n_jobs=-1)]: Done  33 tasks      | elapsed:   21.0s\n",
      "[Parallel(n_jobs=-1)]: Done 154 tasks      | elapsed:  1.6min\n",
      "[Parallel(n_jobs=-1)]: Done 357 tasks      | elapsed:  3.6min\n",
      "[Parallel(n_jobs=-1)]: Done 450 out of 450 | elapsed:  4.6min finished\n"
     ]
    },
    {
     "data": {
      "text/plain": [
       "GridSearchCV(cv=10, estimator=RandomForestClassifier(), n_jobs=-1,\n",
       "             param_grid={'bootstrap': [False], 'max_depth': [None],\n",
       "                         'max_features': ['auto'],\n",
       "                         'min_samples_leaf': [25, 30, 35],\n",
       "                         'min_samples_split': [55, 60, 65],\n",
       "                         'n_estimators': [22, 24, 26, 28, 30]},\n",
       "             verbose=2)"
      ]
     },
     "execution_count": 99,
     "metadata": {},
     "output_type": "execute_result"
    }
   ],
   "source": [
    "param_grid = {\n",
    "    'bootstrap': [False],\n",
    "    'max_depth': [None],\n",
    "    'max_features': ['auto'],\n",
    "    'min_samples_leaf': [25, 30, 35],\n",
    "    'min_samples_split': [55, 60, 65],\n",
    "    'n_estimators': [22, 24, 26, 28, 30]\n",
    "}\n",
    "\n",
    "grid_search = GridSearchCV(RandomForestClassifier(), param_grid = param_grid, cv = 10, \n",
    "                           n_jobs = -1, verbose = 2)\n",
    "grid_search.fit(X_train, y_train)"
   ]
  },
  {
   "cell_type": "code",
   "execution_count": 100,
   "metadata": {},
   "outputs": [
    {
     "data": {
      "text/plain": [
       "{'bootstrap': False,\n",
       " 'max_depth': None,\n",
       " 'max_features': 'auto',\n",
       " 'min_samples_leaf': 30,\n",
       " 'min_samples_split': 60,\n",
       " 'n_estimators': 26}"
      ]
     },
     "execution_count": 100,
     "metadata": {},
     "output_type": "execute_result"
    }
   ],
   "source": [
    "grid_search.best_params_"
   ]
  },
  {
   "cell_type": "code",
   "execution_count": 101,
   "metadata": {},
   "outputs": [
    {
     "name": "stdout",
     "output_type": "stream",
     "text": [
      "[1 0 1 ... 0 0 0]\n"
     ]
    }
   ],
   "source": [
    "# Make prediction\n",
    "y_pred = grid_model.predict(X_test)\n",
    "print(y_pred)"
   ]
  },
  {
   "cell_type": "code",
   "execution_count": 104,
   "metadata": {},
   "outputs": [
    {
     "name": "stdout",
     "output_type": "stream",
     "text": [
      "MSE: -0.12 (+/- 0.01)\n"
     ]
    }
   ],
   "source": [
    "kf = KFold(n_splits=10)\n",
    "cv_scores = cross_val_score(grid_model, X_train, y_train, cv=kf, scoring='neg_mean_squared_error')\n",
    "print(\"MSE: %0.2f (+/- %0.2f)\" % (cv_scores.mean(), cv_scores.std()))\n",
    "# the actual MSE is the number we get hear but positive"
   ]
  },
  {
   "cell_type": "code",
   "execution_count": 105,
   "metadata": {},
   "outputs": [
    {
     "data": {
      "text/html": [
       "<div>\n",
       "<style scoped>\n",
       "    .dataframe tbody tr th:only-of-type {\n",
       "        vertical-align: middle;\n",
       "    }\n",
       "\n",
       "    .dataframe tbody tr th {\n",
       "        vertical-align: top;\n",
       "    }\n",
       "\n",
       "    .dataframe thead th {\n",
       "        text-align: right;\n",
       "    }\n",
       "</style>\n",
       "<table border=\"1\" class=\"dataframe\">\n",
       "  <thead>\n",
       "    <tr style=\"text-align: right;\">\n",
       "      <th>Predicted</th>\n",
       "      <th>0</th>\n",
       "      <th>1</th>\n",
       "      <th>All</th>\n",
       "    </tr>\n",
       "    <tr>\n",
       "      <th>Actual</th>\n",
       "      <th></th>\n",
       "      <th></th>\n",
       "      <th></th>\n",
       "    </tr>\n",
       "  </thead>\n",
       "  <tbody>\n",
       "    <tr>\n",
       "      <th>0</th>\n",
       "      <td>2758</td>\n",
       "      <td>711</td>\n",
       "      <td>3469</td>\n",
       "    </tr>\n",
       "    <tr>\n",
       "      <th>1</th>\n",
       "      <td>66</td>\n",
       "      <td>473</td>\n",
       "      <td>539</td>\n",
       "    </tr>\n",
       "    <tr>\n",
       "      <th>All</th>\n",
       "      <td>2824</td>\n",
       "      <td>1184</td>\n",
       "      <td>4008</td>\n",
       "    </tr>\n",
       "  </tbody>\n",
       "</table>\n",
       "</div>"
      ],
      "text/plain": [
       "Predicted     0     1   All\n",
       "Actual                     \n",
       "0          2758   711  3469\n",
       "1            66   473   539\n",
       "All        2824  1184  4008"
      ]
     },
     "execution_count": 105,
     "metadata": {},
     "output_type": "execute_result"
    }
   ],
   "source": [
    "confusion_matrix(y_test,y_pred)\n",
    "pd.crosstab(y_test, y_pred, rownames = ['Actual'], colnames =['Predicted'], margins = True)"
   ]
  },
  {
   "cell_type": "code",
   "execution_count": 106,
   "metadata": {},
   "outputs": [
    {
     "name": "stdout",
     "output_type": "stream",
     "text": [
      "              precision    recall  f1-score   support\n",
      "\n",
      "           0       0.98      0.80      0.88      3469\n",
      "           1       0.40      0.88      0.55       539\n",
      "\n",
      "    accuracy                           0.81      4008\n",
      "   macro avg       0.69      0.84      0.71      4008\n",
      "weighted avg       0.90      0.81      0.83      4008\n",
      "\n"
     ]
    }
   ],
   "source": [
    "print(classification_report(y_test, y_pred))"
   ]
  },
  {
   "cell_type": "code",
   "execution_count": 107,
   "metadata": {},
   "outputs": [
    {
     "name": "stdout",
     "output_type": "stream",
     "text": [
      "0.5726472925839564\n",
      "Best Threshold for Grid model=0.309129, F-Score=0.576\n"
     ]
    }
   ],
   "source": [
    "y_scores = random_model.predict_proba(X_test)[:,1]\n",
    "precision, recall, thresholds = precision_recall_curve(y_test, y_scores)\n",
    "auc_prc = auc(recall, precision)\n",
    "print(auc_prc)\n",
    "\n",
    "# convert to f score\n",
    "fscore = (2 * precision * recall) / (precision + recall)\n",
    "# locate the index of the largest f score\n",
    "ix = np.argmax(fscore)\n",
    "print('Best Threshold for Grid model=%f, F-Score=%.3f' % (thresholds[ix], \n",
    "                                                          fscore[ix]))"
   ]
  },
  {
   "cell_type": "code",
   "execution_count": 108,
   "metadata": {},
   "outputs": [
    {
     "data": {
      "image/png": "[encoded data removed]",
      "text/plain": [
       "<Figure size 720x576 with 1 Axes>"
      ]
     },
     "metadata": {
      "needs_background": "light"
     },
     "output_type": "display_data"
    }
   ],
   "source": [
    "plt.figure(figsize = (10,8))\n",
    "plt.plot([0, 1], [0.5, 0.5],'o--')\n",
    "plt.plot(recall, precision, label = 'Random Forest')\n",
    "plt.scatter(recall[ix], precision[ix], marker='o', color='black', \n",
    "            label='Best')\n",
    "plt.xlabel('recall')\n",
    "plt.ylabel('precision')\n",
    "plt.title('PRC curve Random Forest')\n",
    "plt.legend()\n",
    "plt.show()"
   ]
  },
  {
   "cell_type": "code",
   "execution_count": 109,
   "metadata": {},
   "outputs": [
    {
     "name": "stdout",
     "output_type": "stream",
     "text": [
      "0.5029682390046519\n"
     ]
    }
   ],
   "source": [
    "matthews_corr = matthews_corrcoef(y_test,y_pred)\n",
    "print(matthews_corr)"
   ]
  },
  {
   "cell_type": "code",
   "execution_count": 111,
   "metadata": {},
   "outputs": [],
   "source": [
    "train_sizes = [1500, 2500, 4500, 6500, 8500, 10500]\n",
    "\n",
    "train_sizes, train_scores, validation_scores = learning_curve(grid_model, X_train, y_train, \n",
    "                                                              train_sizes = train_sizes,\n",
    "                                                              cv = 3, \n",
    "                                                              scoring = 'accuracy')"
   ]
  },
  {
   "cell_type": "code",
   "execution_count": 112,
   "metadata": {},
   "outputs": [
    {
     "name": "stdout",
     "output_type": "stream",
     "text": [
      "[0.88       0.89853333 0.90637037 0.90764103 0.91219608 0.91257143]\n",
      "[0.86000374 0.86755256 0.87416557 0.87740969 0.88109052 0.88158962]\n"
     ]
    }
   ],
   "source": [
    "train_scores_mean = train_scores.mean(axis = 1)\n",
    "print(train_scores_mean)\n",
    "validation_scores_mean = validation_scores.mean(axis = 1)\n",
    "print(validation_scores_mean)"
   ]
  },
  {
   "cell_type": "code",
   "execution_count": 113,
   "metadata": {},
   "outputs": [
    {
     "data": {
      "image/png": "[encoded data removed]",
      "text/plain": [
       "<Figure size 432x288 with 1 Axes>"
      ]
     },
     "metadata": {
      "needs_background": "light"
     },
     "output_type": "display_data"
    }
   ],
   "source": [
    "plt.plot(train_sizes, train_scores_mean, label = 'Training Accuracy')\n",
    "plt.plot(train_sizes, validation_scores_mean, label = 'Validation Accuracy')\n",
    "plt.ylabel('Score')\n",
    "plt.xlabel('Training examples')\n",
    "plt.title('Learning curve for our Grid Search model')\n",
    "plt.ylim(0.8,1)\n",
    "plt.legend(loc='best')\n",
    "plt.show()"
   ]
  },
  {
   "cell_type": "code",
   "execution_count": null,
   "metadata": {},
   "outputs": [],
   "source": []
  },
  {
   "cell_type": "code",
   "execution_count": null,
   "metadata": {},
   "outputs": [],
   "source": []
  }
 ],
 "metadata": {
  "kernelspec": {
   "display_name": "Python 3",
   "language": "python",
   "name": "python3"
  },
  "language_info": {
   "codemirror_mode": {
    "name": "ipython",
    "version": 3
   },
   "file_extension": ".py",
   "mimetype": "text/x-python",
   "name": "python",
   "nbconvert_exporter": "python",
   "pygments_lexer": "ipython3",
   "version": "3.8.3"
  }
 },
 "nbformat": 4,
 "nbformat_minor": 4
}
